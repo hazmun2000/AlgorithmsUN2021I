{
  "nbformat": 4,
  "nbformat_minor": 0,
  "metadata": {
    "colab": {
      "name": "21BlackjackGrClass1StGroup8.ipynb",
      "provenance": [],
      "collapsed_sections": [
        "ssT2WKWMEwWT",
        "gY3OWCx_Fj8n",
        "pCjypSRzZVgl",
        "WNo7-33vOjFV",
        "B6XUk42Lr-Ee",
        "Sl8yNNZBhtS1",
        "Cx-F8aWZjKdl",
        "j5pR8r7ljzBp",
        "rkz5K67Vj7d-"
      ]
    },
    "kernelspec": {
      "name": "python3",
      "display_name": "Python 3"
    }
  },
  "cells": [
    {
      "cell_type": "markdown",
      "metadata": {
        "id": "ZfdlCm9NEYHa"
      },
      "source": [
        "# LAB 10 Group 8\n",
        "### Monte Carlo – 21 Blackjack – Group 8\n"
      ]
    },
    {
      "cell_type": "code",
      "metadata": {
        "id": "2_HxEktubL5J"
      },
      "source": [
        "import random as r\n",
        "import numpy as np\n",
        "import matplotlib.pyplot as plt"
      ],
      "execution_count": 2,
      "outputs": []
    },
    {
      "cell_type": "code",
      "metadata": {
        "id": "b32oHI64dF2I"
      },
      "source": [
        "baraja_española = (1,2,3,4,5,6,7,10,11,12,1,2,3,4,5,6,7,8,9,10,11,12,1,2,3,4,5,6,7,8,9,10,11,12,1,2,3,4,5,6,7,8,9,10,11,12)\n",
        "baraja_poker = (1,2,3,4,5,6,7,8,9,10,11,12,13,1,2,3,4,5,6,7,8,9,10,11,12,13,1,2,3,4,5,6,7,8,9,10,11,12,13,1,2,3,4,5,6,7,8,9,10,11,12,13)\n",
        "\n",
        "baraja_española_2 = (1,2,3,4,5,6,7,8,9,10,10,10,1,2,3,4,5,6,7,8,9,10,10,10,1,2,3,4,5,6,7,8,9,10,10,10,1,2,3,4,5,6,7,8,9,10,10,10)\n",
        "baraja_poker_2 = (1,2,3,4,5,6,7,8,9,10,10,10,10,1,2,3,4,5,6,7,8,9,10,10,10,10,1,2,3,4,5,6,7,8,9,10,10,10,10,1,2,3,4,5,6,7,8,9,10,10,10,10)\n",
        "\n",
        "numero_experimentos = 10000000"
      ],
      "execution_count": 3,
      "outputs": []
    },
    {
      "cell_type": "markdown",
      "metadata": {
        "id": "ssT2WKWMEwWT"
      },
      "source": [
        "## 1.\n",
        "\n",
        "Estimate the probability of getting a 21, the average number of cards required to complete 21 and plot the experimental distribution of the number of card required to complete 21 drawing cards sequentially from a shuffled Spanish 48-card deck with card values [1,2,3,4,5,6,7,10,11,12,1,2,3,4,5,6,7,8,9,10,11,12,1,2,3,4,5,6,7,8,9,10,11,12,1,2,3,4,5,6,7,8,9,10,11,12] and from a shuffled Poker 52-card with card values [1,2,3,4,5,6,7,8,9,10,11,12,13,1,2,3,4,5,6,7,8,9,10,11,12,13,1,2,3,4,5,6,7,8,9,10,11,12,13,1,2,3,4,5,6,7,8,9,10,11,12,13] using Montecarlo with 10 millions simulations."
      ]
    },
    {
      "cell_type": "code",
      "metadata": {
        "id": "tOkYD-W8EyLw",
        "colab": {
          "base_uri": "https://localhost:8080/",
          "height": 282
        },
        "outputId": "5f9c4c8a-2dc6-4fa4-d780-0066f2adf777"
      },
      "source": [
        "n_ganadas = 0\n",
        "n_cartas_ganadas = 0\n",
        "n_cartas_ganadas_lista = []\n",
        "\n",
        "for i in range(numero_experimentos):\n",
        "    deck = list(baraja_española)\n",
        "    sum_cartas = 0\n",
        "    n_cartas = 0\n",
        "    while sum_cartas < 21:\n",
        "        carta = r.choice(deck)\n",
        "        sum_cartas += carta\n",
        "        n_cartas += 1\n",
        "        deck.remove(carta)\n",
        "    if sum_cartas == 21:\n",
        "        n_ganadas += 1\n",
        "        n_cartas_ganadas += n_cartas\n",
        "        n_cartas_ganadas_lista.append(n_cartas)\n",
        "print(\"Probabilidad de Ganar con Baraja Española:\", n_ganadas/numero_experimentos, \"Promedio de cartas para ganar:\", n_cartas_ganadas/n_ganadas)\n",
        "# Graficar\n",
        "arreglo_ncg = np.array(n_cartas_ganadas_lista)\n",
        "plt.hist(arreglo_ncg);"
      ],
      "execution_count": 4,
      "outputs": [
        {
          "output_type": "stream",
          "text": [
            "Probabilidad de Ganar con Baraja Española: 0.1585586 Promedio de cartas para ganar: 3.477776039899444\n"
          ],
          "name": "stdout"
        },
        {
          "output_type": "display_data",
          "data": {
            "image/png": "[encoded data removed]",
            "text/plain": [
              "<Figure size 432x288 with 1 Axes>"
            ]
          },
          "metadata": {
            "tags": [],
            "needs_background": "light"
          }
        }
      ]
    },
    {
      "cell_type": "code",
      "metadata": {
        "id": "Na7vGi7-E2-u",
        "colab": {
          "base_uri": "https://localhost:8080/",
          "height": 282
        },
        "outputId": "f0fbab59-feb8-4062-f8f2-8b7dda03754d"
      },
      "source": [
        "n_ganadas = 0\n",
        "n_cartas_ganadas = 0\n",
        "n_cartas_ganadas_lista = []\n",
        "\n",
        "for i in range(numero_experimentos):\n",
        "    deck = list(baraja_poker)\n",
        "    sum_cartas = 0\n",
        "    n_cartas = 0\n",
        "    while sum_cartas < 21:\n",
        "        carta = r.choice(deck)\n",
        "        sum_cartas += carta\n",
        "        n_cartas += 1\n",
        "        deck.remove(carta)\n",
        "    if sum_cartas == 21:\n",
        "        n_ganadas += 1\n",
        "        n_cartas_ganadas += n_cartas\n",
        "        n_cartas_ganadas_lista.append(n_cartas)\n",
        "print(\"Probabilidad de Ganar con Baraja de Poker:\", n_ganadas/numero_experimentos, \"Promedio de cartas para ganar:\", n_cartas_ganadas/n_ganadas)\n",
        "# Graficar\n",
        "arreglo_ncg = np.array(n_cartas_ganadas_lista)\n",
        "plt.hist(arreglo_ncg);"
      ],
      "execution_count": 5,
      "outputs": [
        {
          "output_type": "stream",
          "text": [
            "Probabilidad de Ganar con Baraja de Poker: 0.1446934 Promedio de cartas para ganar: 3.21486605470602\n"
          ],
          "name": "stdout"
        },
        {
          "output_type": "display_data",
          "data": {
            "image/png": "[encoded data removed]",
            "text/plain": [
              "<Figure size 432x288 with 1 Axes>"
            ]
          },
          "metadata": {
            "tags": [],
            "needs_background": "light"
          }
        }
      ]
    },
    {
      "cell_type": "markdown",
      "metadata": {
        "id": "gY3OWCx_Fj8n"
      },
      "source": [
        "## 2.\n",
        "\n",
        "Estimate the probability of getting a 21, the average number of cards required to complete 21 and plot the experimental distribution of the number of card required to complete 21 drawing cards sequentially from a shuffled Spanish 48-card deck with card values [1,2,3,4,5,6,7,10,10,10,1,2,3,4,5,6,7,8,9,10,10,10,1,2,3,4,5,6,7,8,9,10,10,10,1,2,3,4,5,6,7,8,9,10,10,10] and from a shuffled Poker 52-card deck with card values [1,2,3,4,5,6,7,8,9,10,11,12,13,1,2,3,4,5,6,7,8,9,10,10,10,10,1,2,3,4,5,6,7,8,9,10,10,10,10,1,2,3,4,5,6,7,8,9,10,10,10,10] using Montecarlo with 10 millions simulations."
      ]
    },
    {
      "cell_type": "code",
      "metadata": {
        "id": "2V8IpXABFlV8",
        "colab": {
          "base_uri": "https://localhost:8080/",
          "height": 282
        },
        "outputId": "5a4b2302-53b4-4da1-f475-aaf0dba9dcd5"
      },
      "source": [
        "n_ganadas = 0\n",
        "n_cartas_ganadas = 0\n",
        "n_cartas_ganadas_lista = []\n",
        "\n",
        "for i in range(numero_experimentos):\n",
        "    deck = list(baraja_española_2)\n",
        "    sum_cartas = 0\n",
        "    n_cartas = 0\n",
        "    while sum_cartas < 21:\n",
        "        carta = r.choice(deck)\n",
        "        sum_cartas += carta\n",
        "        n_cartas += 1\n",
        "        deck.remove(carta)\n",
        "    if sum_cartas == 21:\n",
        "        n_ganadas += 1\n",
        "        n_cartas_ganadas += n_cartas\n",
        "        n_cartas_ganadas_lista.append(n_cartas)\n",
        "print(\"Probabilidad de Ganar con Baraja Española:\", n_ganadas/numero_experimentos, \"Promedio de cartas para ganar:\", n_cartas_ganadas/n_ganadas)\n",
        "# Graficar\n",
        "arreglo_ncg = np.array(n_cartas_ganadas_lista)\n",
        "plt.hist(arreglo_ncg);"
      ],
      "execution_count": 6,
      "outputs": [
        {
          "output_type": "stream",
          "text": [
            "Probabilidad de Ganar con Baraja Española: 0.1497517 Promedio de cartas para ganar: 3.698418114786009\n"
          ],
          "name": "stdout"
        },
        {
          "output_type": "display_data",
          "data": {
            "image/png": "[encoded data removed]",
            "text/plain": [
              "<Figure size 432x288 with 1 Axes>"
            ]
          },
          "metadata": {
            "tags": [],
            "needs_background": "light"
          }
        }
      ]
    },
    {
      "cell_type": "code",
      "metadata": {
        "id": "LKW4MTBeGUT2",
        "colab": {
          "base_uri": "https://localhost:8080/",
          "height": 282
        },
        "outputId": "71213d18-21ce-4ca0-8231-cf9984fbd2c2"
      },
      "source": [
        "n_ganadas = 0\n",
        "n_cartas_ganadas = 0\n",
        "n_cartas_ganadas_lista = []\n",
        "\n",
        "for i in range(numero_experimentos):\n",
        "    deck = list(baraja_poker_2)\n",
        "    sum_cartas = 0\n",
        "    n_cartas = 0\n",
        "    while sum_cartas < 21:\n",
        "        carta = r.choice(deck)\n",
        "        sum_cartas += carta\n",
        "        n_cartas += 1\n",
        "        deck.remove(carta)\n",
        "    if sum_cartas == 21:\n",
        "        n_ganadas += 1\n",
        "        n_cartas_ganadas += n_cartas\n",
        "        n_cartas_ganadas_lista.append(n_cartas)\n",
        "print(\"Probabilidad de Ganar con Baraja Espaniola:\", n_ganadas/numero_experimentos, \"Promedio de cartas para ganar:\", n_cartas_ganadas/n_ganadas)\n",
        "# Graficar\n",
        "arreglo_ncg = np.array(n_cartas_ganadas_lista)\n",
        "plt.hist(arreglo_ncg);"
      ],
      "execution_count": 7,
      "outputs": [
        {
          "output_type": "stream",
          "text": [
            "Probabilidad de Ganar con Baraja Espaniola: 0.1401818 Promedio de cartas para ganar: 3.5791037067579388\n"
          ],
          "name": "stdout"
        },
        {
          "output_type": "display_data",
          "data": {
            "image/png": "[encoded data removed]",
            "text/plain": [
              "<Figure size 432x288 with 1 Axes>"
            ]
          },
          "metadata": {
            "tags": [],
            "needs_background": "light"
          }
        }
      ]
    },
    {
      "cell_type": "markdown",
      "metadata": {
        "id": "pCjypSRzZVgl"
      },
      "source": [
        "## 3.\n",
        "\n",
        "Estimate the probability of getting a 21, the average total number of cards required to complete 21 and lot the experimental distribution of the number of card required to complete 21; assuming that you have in your hand the cards [7,7,5] and the remaining deck has n/2 cards for the regular Spanish 48-card deck and the Poker 52-card decks. You can pick the n/2 cards in the remaining deck in whatever way you choose but with restriction that this has maximum two 7s and three 5, you have to keep the remaining deck fixed through the Montecarlo simulations, use 10 million simulations."
      ]
    },
    {
      "cell_type": "code",
      "metadata": {
        "id": "xKlqAkYvGdo9",
        "colab": {
          "base_uri": "https://localhost:8080/",
          "height": 282
        },
        "outputId": "1626c905-dea2-47a1-942d-6c576a42f083"
      },
      "source": [
        "n_ganadas = 0\n",
        "n_cartas_ganadas = 0\n",
        "n_cartas_ganadas_lista = []\n",
        "\n",
        "for i in range(numero_experimentos):\n",
        "    deck = [1,2,3,4,5,6,7,8,9,10,10,10,1,2,3,4,5,6,7,8,9,10,10,10]\n",
        "    sum_cartas = 19\n",
        "    n_cartas = 3\n",
        "    while sum_cartas < 21:\n",
        "        carta = r.choice(deck)\n",
        "        sum_cartas += carta\n",
        "        n_cartas += 1\n",
        "        deck.remove(carta)\n",
        "    if sum_cartas == 21:\n",
        "        n_ganadas += 1\n",
        "        n_cartas_ganadas += n_cartas\n",
        "        n_cartas_ganadas_lista.append(n_cartas)\n",
        "print(\"Probabilidad de Ganar con Baraja Espaniola:\", n_ganadas/numero_experimentos, \"Promedio de cartas para ganar:\", n_cartas_ganadas/n_ganadas)\n",
        "# Graficar\n",
        "arreglo_ncg = np.array(n_cartas_ganadas_lista)\n",
        "plt.hist(arreglo_ncg, bins=3);"
      ],
      "execution_count": 8,
      "outputs": [
        {
          "output_type": "stream",
          "text": [
            "Probabilidad de Ganar con Baraja Espaniola: 0.0870399 Promedio de cartas para ganar: 4.041621141568407\n"
          ],
          "name": "stdout"
        },
        {
          "output_type": "display_data",
          "data": {
            "image/png": "[encoded data removed]",
            "text/plain": [
              "<Figure size 432x288 with 1 Axes>"
            ]
          },
          "metadata": {
            "tags": [],
            "needs_background": "light"
          }
        }
      ]
    },
    {
      "cell_type": "code",
      "metadata": {
        "id": "Mn71gZt9Nfjf",
        "colab": {
          "base_uri": "https://localhost:8080/",
          "height": 284
        },
        "outputId": "3560b83f-d872-4627-b0a2-3af531aac426"
      },
      "source": [
        "n_ganadas = 0\n",
        "n_cartas_ganadas = 0\n",
        "n_cartas_ganadas_lista = []\n",
        "\n",
        "for i in range(numero_experimentos):\n",
        "    deck = [1,2,3,4,5,6,7,8,9,10,10,10,1,2,3,4,5,6,7,8,9,10,10,10,6,8]\n",
        "    sum_cartas = 19\n",
        "    n_cartas = 3\n",
        "    while sum_cartas < 21:\n",
        "        carta = r.choice(deck)\n",
        "        sum_cartas += carta\n",
        "        n_cartas += 1\n",
        "        deck.remove(carta)\n",
        "    if sum_cartas == 21:\n",
        "        n_ganadas += 1\n",
        "        n_cartas_ganadas += n_cartas\n",
        "        n_cartas_ganadas_lista.append(n_cartas)\n",
        "print(\"Probabilidad de Ganar con Baraja de Poker:\", n_ganadas/numero_experimentos, \"Promedio de cartas para ganar:\", n_cartas_ganadas/n_ganadas)\n",
        "# Graficar\n",
        "arreglo_ncg = np.array(n_cartas_ganadas_lista)\n",
        "plt.hist(arreglo_ncg, bins=3);"
      ],
      "execution_count": 9,
      "outputs": [
        {
          "output_type": "stream",
          "text": [
            "Probabilidad de Ganar con Baraja de Poker: 0.0799513 Promedio de cartas para ganar: 4.0383771120669705\n"
          ],
          "name": "stdout"
        },
        {
          "output_type": "display_data",
          "data": {
            "image/png": "[encoded data removed]",
            "text/plain": [
              "<Figure size 432x288 with 1 Axes>"
            ]
          },
          "metadata": {
            "tags": [],
            "needs_background": "light"
          }
        }
      ]
    },
    {
      "cell_type": "markdown",
      "metadata": {
        "id": "WNo7-33vOjFV"
      },
      "source": [
        "## 4.\n",
        "\n",
        "Estimate and calculate analytically the probability of getting a 21, the average total number of cards required to complete 21 and the experimental distribution of the number of card required to complete 21; assuming that you have in your hand the cards [7,7,5] and the remaining deck has two possible sets of 8 cards for the regular Spanish 48-card deck and the Poker 52-card decks. The two possible remaining decks are a (hot deck) that contains four 1 cards and four 2 cards a (cold deck) with not 1 or 2 cards, for the estimations use Montecarlo with 10 million simulations."
      ]
    },
    {
      "cell_type": "markdown",
      "metadata": {
        "id": "4dE5rjGnPIW6"
      },
      "source": [
        "Las barajas calientes teniendo [7,7,5] son las barajas que tengan más 1's y 2's. Contrariamente, las barajas frias seran las que tengan menos 1's y 2's.\n",
        "\n",
        "\n",
        "*   12 Cartas:\n",
        " *    Baraja Caliente: [1,1,1,1,2,2,2,2,x,x,x,x] (donde x es cualquier numero).\n",
        " -> Probabilidad de ganar: 1/3 + ((1/3)*(3/11)) = 1/3 + 1/11 ≈ 0.424242424\n",
        "\n",
        " *    Baraja Fria: [x,x,x,x,x,x,x,x,x,x,x,x] (donde x es cualquier numero excepto 1's y 2's).\n",
        " -> Probabilidad de ganar: 0\n",
        "\n",
        "*   10 Cartas:\n",
        " *    Baraja Caliente: [1,1,1,1,2,2,2,2,x,x] (donde x es cualquier numero).\n",
        " -> Probabilidad de ganar: 2/5 + ((2/5)*(1/3)) = 2/5 + 2/15 ≈ 0.533333333\n",
        "\n",
        " *    Baraja Fria: [x,x,x,x,x,x,x,x,x,x] (donde x es cualquier numero excepto 1's y 2's). \n",
        " -> Probabilidad de ganar: 0"
      ]
    },
    {
      "cell_type": "code",
      "metadata": {
        "id": "JK42v_XHOH3t",
        "colab": {
          "base_uri": "https://localhost:8080/",
          "height": 293
        },
        "outputId": "32d36f0a-72ff-4e15-e9b0-80253692f07c"
      },
      "source": [
        "# 12 CARTAS HOT DECK\n",
        "n_ganadas = 0\n",
        "n_cartas_ganadas = 0\n",
        "n_cartas_ganadas_lista = []\n",
        "\n",
        "for i in range(numero_experimentos):\n",
        "    deck = [1,1,1,1,2,2,2,2,10,10,10,10]\n",
        "    sum_cartas = 19\n",
        "    n_cartas = 3\n",
        "    while sum_cartas < 21:\n",
        "        carta = r.choice(deck)\n",
        "        sum_cartas += carta\n",
        "        n_cartas += 1\n",
        "        deck.remove(carta)\n",
        "    if sum_cartas == 21:\n",
        "        n_ganadas += 1\n",
        "        n_cartas_ganadas += n_cartas\n",
        "        n_cartas_ganadas_lista.append(n_cartas)\n",
        "print(\"Probabilidad de Ganar con Hot Deck de 12 Cartas:\", n_ganadas/numero_experimentos, \"Promedio de cartas para ganar:\", n_cartas_ganadas/n_ganadas)\n",
        "# Graficar\n",
        "arreglo_ncg = np.array(n_cartas_ganadas_lista)\n",
        "plt.hist(arreglo_ncg, bins=2, align='mid');"
      ],
      "execution_count": 10,
      "outputs": [
        {
          "output_type": "stream",
          "text": [
            "Probabilidad de Ganar con Hot Deck de 12 Cartas: 0.4239053 Promedio de cartas para ganar: 4.214140280859899\n"
          ],
          "name": "stdout"
        },
        {
          "output_type": "display_data",
          "data": {
            "image/png": "[encoded data removed]",
            "text/plain": [
              "<Figure size 432x288 with 1 Axes>"
            ]
          },
          "metadata": {
            "tags": [],
            "needs_background": "light"
          }
        }
      ]
    },
    {
      "cell_type": "code",
      "metadata": {
        "id": "vHa0zyzdS9Ir",
        "colab": {
          "base_uri": "https://localhost:8080/",
          "height": 282
        },
        "outputId": "d7405f9d-f5fb-42d7-e82c-daf3c1b55d05"
      },
      "source": [
        "# 12 CARTAS COLD DECK\n",
        "n_ganadas = 0\n",
        "n_cartas_ganadas = 0\n",
        "n_cartas_ganadas_lista = []\n",
        "\n",
        "for i in range(numero_experimentos):\n",
        "    deck = [8,8,8,8,9,9,9,9,10,10,10,10]\n",
        "    sum_cartas = 19\n",
        "    n_cartas = 3\n",
        "    while sum_cartas < 21:\n",
        "        carta = r.choice(deck)\n",
        "        sum_cartas += carta\n",
        "        n_cartas += 1\n",
        "        deck.remove(carta)\n",
        "    if sum_cartas == 21:\n",
        "        n_ganadas += 1\n",
        "        n_cartas_ganadas += n_cartas\n",
        "        n_cartas_ganadas_lista.append(n_cartas)\n",
        "print(\"Probabilidad de Ganar con Cold Deck de 12 Cartas:\", n_ganadas/numero_experimentos, \"Promedio de cartas para ganar:\", n_cartas_ganadas)\n",
        "# Graficar\n",
        "arreglo_ncg = np.array(n_cartas_ganadas_lista)\n",
        "plt.hist(arreglo_ncg, bins=2);"
      ],
      "execution_count": 11,
      "outputs": [
        {
          "output_type": "stream",
          "text": [
            "Probabilidad de Ganar con Cold Deck de 12 Cartas: 0.0 Promedio de cartas para ganar: 0\n"
          ],
          "name": "stdout"
        },
        {
          "output_type": "display_data",
          "data": {
            "image/png": "[encoded data removed]",
            "text/plain": [
              "<Figure size 432x288 with 1 Axes>"
            ]
          },
          "metadata": {
            "tags": [],
            "needs_background": "light"
          }
        }
      ]
    },
    {
      "cell_type": "code",
      "metadata": {
        "id": "mVIW1qhlUN4O",
        "colab": {
          "base_uri": "https://localhost:8080/",
          "height": 293
        },
        "outputId": "0d834e56-e49a-4c0b-aa9d-ea9fb75ea921"
      },
      "source": [
        "# 10 CARTAS HOT DECK\n",
        "n_ganadas = 0\n",
        "n_cartas_ganadas = 0\n",
        "n_cartas_ganadas_lista = []\n",
        "\n",
        "for i in range(numero_experimentos):\n",
        "    deck = [1,1,1,1,2,2,2,2,10,10]\n",
        "    sum_cartas = 19\n",
        "    n_cartas = 3\n",
        "    while sum_cartas < 21:\n",
        "        carta = r.choice(deck)\n",
        "        sum_cartas += carta\n",
        "        n_cartas += 1\n",
        "        deck.remove(carta)\n",
        "    if sum_cartas == 21:\n",
        "        n_ganadas += 1\n",
        "        n_cartas_ganadas += n_cartas\n",
        "        n_cartas_ganadas_lista.append(n_cartas)\n",
        "print(\"Probabilidad de Ganar con Hot Deck de 10 Cartas:\", n_ganadas/numero_experimentos, \"Promedio de cartas para ganar:\", n_cartas_ganadas/n_ganadas)\n",
        "# Graficar\n",
        "arreglo_ncg = np.array(n_cartas_ganadas_lista)\n",
        "plt.hist(arreglo_ncg, bins=2);"
      ],
      "execution_count": 12,
      "outputs": [
        {
          "output_type": "stream",
          "text": [
            "Probabilidad de Ganar con Hot Deck de 10 Cartas: 0.533079 Promedio de cartas para ganar: 4.24997082983948\n"
          ],
          "name": "stdout"
        },
        {
          "output_type": "display_data",
          "data": {
            "image/png": "[encoded data removed]",
            "text/plain": [
              "<Figure size 432x288 with 1 Axes>"
            ]
          },
          "metadata": {
            "tags": [],
            "needs_background": "light"
          }
        }
      ]
    },
    {
      "cell_type": "code",
      "metadata": {
        "id": "772rTvCJUekj",
        "colab": {
          "base_uri": "https://localhost:8080/",
          "height": 282
        },
        "outputId": "f2a9ce16-dea2-4a6f-a6b8-309e5b9ef1d3"
      },
      "source": [
        "# 10 CARTAS COLD DECK\n",
        "n_ganadas = 0\n",
        "n_cartas_ganadas = 0\n",
        "n_cartas_ganadas_lista = []\n",
        "\n",
        "for i in range(numero_experimentos):\n",
        "    deck = [8,8,8,8,9,9,9,9,10,10]\n",
        "    sum_cartas = 19\n",
        "    n_cartas = 3\n",
        "    while sum_cartas < 21:\n",
        "        carta = r.choice(deck)\n",
        "        sum_cartas += carta\n",
        "        n_cartas += 1\n",
        "        deck.remove(carta)\n",
        "    if sum_cartas == 21:\n",
        "        n_ganadas += 1\n",
        "        n_cartas_ganadas += n_cartas\n",
        "        n_cartas_ganadas_lista.append(n_cartas)\n",
        "print(\"Probabilidad de Ganar con Cold Deck de 10 Cartas:\", n_ganadas/numero_experimentos, \"Promedio de cartas para ganar:\", n_cartas_ganadas)\n",
        "# Graficar\n",
        "arreglo_ncg = np.array(n_cartas_ganadas_lista)\n",
        "plt.hist(arreglo_ncg, bins=2);"
      ],
      "execution_count": 13,
      "outputs": [
        {
          "output_type": "stream",
          "text": [
            "Probabilidad de Ganar con Cold Deck de 10 Cartas: 0.0 Promedio de cartas para ganar: 0\n"
          ],
          "name": "stdout"
        },
        {
          "output_type": "display_data",
          "data": {
            "image/png": "[encoded data removed]",
            "text/plain": [
              "<Figure size 432x288 with 1 Axes>"
            ]
          },
          "metadata": {
            "tags": [],
            "needs_background": "light"
          }
        }
      ]
    },
    {
      "cell_type": "markdown",
      "metadata": {
        "id": "B6XUk42Lr-Ee"
      },
      "source": [
        "## 5.\n",
        "\n",
        "Estimate the average amount of money (expected value) that Ben wins or losses on a weekend if Ben goes to Vegas every weekend (Friday, Saturday and Sunday), plays every weekend day 10 hours, each game takes 3 mins. Assume that for each game he gets two possibilities, in one he gets in his hand the cards [7,7,5] and a remaining hot deck with 8 cards in which case he bets \\$1000 this happens with probability 1/10; in the other one he gets no cards in his hand a complete shuffled deck in which case he bets $10, this happens with the remaining probability 9/10. Use 10000 Montecarlo simulations to estimated the expected amount of money that Ben wins or losses on a weekend for the Spanish 48-card deck and for a Poker 52-card deck."
      ]
    },
    {
      "cell_type": "code",
      "metadata": {
        "id": "5W-e2HNsayUx",
        "colab": {
          "base_uri": "https://localhost:8080/"
        },
        "outputId": "ed1d73e9-bf75-4871-8baa-e9020082ca74"
      },
      "source": [
        "\n",
        "#5\n",
        "#importacion de las librerias de usar\n",
        "#\n",
        "import random\n",
        "#\n",
        "import matplotlib.pyplot as plt\n",
        "#\n",
        "import numpy as np\n",
        "\n",
        "#5\n",
        "#funcion para calcular la ganancia tras un juego\n",
        "def apostar(Maso1,Mano1,dinero):\n",
        "  #copiar los vectores\n",
        "  Maso = Maso1[:]\n",
        "  Mano = Mano1[:]\n",
        "\n",
        "  #Revolver las cartas\n",
        "  random.shuffle(Maso)\n",
        "\n",
        "  for x in Maso:\n",
        "    \n",
        "    #Se calcula si la Mano es 21 gano dinero\n",
        "    if (sum(Mano)==21):\n",
        "\n",
        "      #Devolver el resultado favorable\n",
        "      return (dinero)\n",
        "      \n",
        "      #me pase pierdo dinero\n",
        "    elif (sum(Mano)>21):\n",
        "      return (dinero*(-1))\n",
        "\n",
        "      #Se toma una carta\n",
        "    else:\n",
        "      Mano.append(Maso.pop())\n",
        "\n",
        "#5\n",
        "#Funcion que genera la matriz con 600 digitos\n",
        "def Completar(al):\n",
        "  matriz = al[:]\n",
        "  for s in range(0,60-1):\n",
        "    al = al + matriz\n",
        "  return al\n",
        "\n",
        "#5\n",
        "#Funcion para definir la simulacion de juego\n",
        "def Inicio_Juego(Mano, Maso, sim):\n",
        "  \n",
        "  #Numero de juegos cada fin de semana\n",
        "  Tiempo = int(3*10 * 60 / 3)\n",
        "  print (\"\\tNumero de juegos cada fin de semana \", Tiempo,\"\\n\")\n",
        "\n",
        "  #Duracion de la adiccion es de 10 millones de juegos\n",
        "  i = 0\n",
        "\n",
        "  #Juegos cada semana\n",
        "  j = 0\n",
        "\n",
        "  #Almacenar el dinero por semana\n",
        "  ganado = 0\n",
        "  \n",
        "  #Almacenar los resultados por semana\n",
        "  resultado = []\n",
        "\n",
        "\n",
        "  #Vector aleatorio con probabilidad de 1/10 para tener maso caliente\n",
        "  al = [1,0,0,0,0,0,0,0,0,0]\n",
        "  \n",
        "  #Se genera una matris con los 600 datos \n",
        "  al = Completar(al)\n",
        "\n",
        "  #Inicio se repetira 10 mil semanas\n",
        "  while (i <= sim):\n",
        "\n",
        "    #Sistema de revolver las probabilidades\n",
        "    random.shuffle(al)\n",
        "    \n",
        "    #Condicional que separa las semanas\n",
        "    if (j >= Tiempo):\n",
        "      j = 0\n",
        "      i +=1\n",
        "      \n",
        "      #Almacenar el dinero que se gana en la semana\n",
        "      resultado.append(ganado)\n",
        "\n",
        "      ganado = 0\n",
        "\n",
        "    #Juego de 21\n",
        "    else:\n",
        "\n",
        "      #Leer las probabilidades aleatoria con mejor probabilidad\n",
        "      for l in al:\n",
        "        #Jugada realizada\n",
        "        j = j+1\n",
        "\n",
        "        premio = 0\n",
        "\n",
        "        #Si la probabilidad es favorable se apuesta 1000\n",
        "        if (l):\n",
        "        \n",
        "          #Llamada de la funcion apostar\n",
        "          premio = apostar(Maso[0],Mano,1000)\n",
        "          \n",
        "          #Si la probabilidad es desfavorable se apuesta 10\n",
        "        else:\n",
        "          #Llamada de la funcion apostar\n",
        "          premio = apostar(Maso[1],[],10)\n",
        "        \n",
        "        #Sumar los resultados\n",
        "        ganado = ganado + premio\n",
        "  #Se hace el promedio del vector resultado( suma acumulado/tamaño del vector)\n",
        "  print (\"\\nLa ganancia promedio un fin de semana de Ben es de $\", sum(resultado)/len(resultado),\"\\n\")\n",
        "\n",
        "\n",
        "\n",
        "###Baraja Española\n",
        "\n",
        "#5\n",
        "#Baraja Española\n",
        "Maso_Español = [1,2,3,4,5,6,7,8,9,10,10,10]\n",
        "Maso_Español = Maso_Español+Maso_Español\n",
        "Maso_Español = Maso_Español+Maso_Español\n",
        "Maso_Español_C = [[1,1,1,1,2,2,2,2],Maso_Español]\n",
        "\n",
        "#Tiempo de juego en cada semana 3 dias a la semana, 10 horas de juego \n",
        "#y cada partida con duracion de 3 minutos\n",
        "\n",
        "print (\"\\n\\tInicio de la partida.\\n\\n\")\n",
        "print (\"Baraja Española\")\n",
        "\n",
        "#Mis cartas recividas (mano)\n",
        "Mano1 = [5,7,7]\n",
        "\n",
        "#Calcular con el maso\n",
        "Inicio_Juego(Mano1, Maso_Español_C, 10000)\n",
        "  \n",
        "\n",
        "###Baraja de Poker\n",
        "\n",
        "#5\n",
        "#Baraja Poker\n",
        "Maso_Poker = [1,2,3,4,5,6,7,8,9,10,10,10,10]\n",
        "Maso_Poker = Maso_Poker+Maso_Poker\n",
        "Maso_Poker = Maso_Poker+Maso_Poker\n",
        "Maso_Poker_C = [[1,1,10,10,2,2,2,2,],Maso_Poker]\n",
        "\n",
        "#Tiempo de juego en cada semana 3 dias a la semana, 10 horas de juego \n",
        "#y cada partida con duracion de 3 minutos\n",
        "\n",
        "print (\"\\n\\tInicio de la partida.\\n\\n\")\n",
        "print (\"Baraja de Poker\")\n",
        "\n",
        "#Mis cartas recividas (mano)\n",
        "Mano1 = [5,7,7]\n",
        "\n",
        "#Calcular con el maso\n",
        "Inicio_Juego(Mano1, Maso_Poker_C, 10000)"
      ],
      "execution_count": 17,
      "outputs": [
        {
          "output_type": "stream",
          "text": [
            "\n",
            "\tInicio de la partida.\n",
            "\n",
            "\n",
            "Baraja Española\n",
            "\tNumero de juegos cada fin de semana  600 \n",
            "\n",
            "\n",
            "La ganancia promedio un fin de semana de Ben es de $ 21945.745425457455 \n",
            "\n",
            "\n",
            "\tInicio de la partida.\n",
            "\n",
            "\n",
            "Baraja de Poker\n",
            "\tNumero de juegos cada fin de semana  600 \n",
            "\n",
            "\n",
            "La ganancia promedio un fin de semana de Ben es de $ 382.6817318268173 \n",
            "\n"
          ],
          "name": "stdout"
        }
      ]
    }
  ]
}