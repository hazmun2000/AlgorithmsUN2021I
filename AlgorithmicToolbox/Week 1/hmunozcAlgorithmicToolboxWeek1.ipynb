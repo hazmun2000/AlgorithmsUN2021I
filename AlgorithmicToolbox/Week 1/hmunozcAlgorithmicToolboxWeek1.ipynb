{
<<<<<<< HEAD
  "nbformat": 4,
  "nbformat_minor": 0,
  "metadata": {
    "colab": {
      "name": "geramirezlAlgorithmicToolboxWeek1.ipynb",
      "provenance": [],
      "collapsed_sections": []
    },
    "kernelspec": {
      "name": "python3",
      "display_name": "Python 3"
    },
    "language_info": {
      "name": "python"
    }
  },
  "cells": [
    {
      "cell_type": "markdown",
      "metadata": {
        "id": "N1ok_-56OjB1"
      },
      "source": [
        "# I Solving the Sum of Two Digits Programming Challenge"
      ]
    },
    {
      "cell_type": "markdown",
      "metadata": {
        "id": "MMY7kmDSO0KM"
      },
      "source": [
        "## C++"
      ]
    },
    {
      "cell_type": "code",
      "metadata": {
        "colab": {
          "base_uri": "https://localhost:8080/"
        },
        "id": "2pGGf9BkPNIk",
        "outputId": "d8b72a42-8b6d-49b3-9b48-b4801e8b7934"
      },
      "source": [
        "%%writefile APlusB.cpp\n",
        "#include <iostream>\n",
        "\n",
        "int sum_of_two_digits(int first_digit, int second_digit) {\n",
        "    return first_digit + second_digit;\n",
        "}\n",
        "\n",
        "int main() {\n",
        "    int a = 0;\n",
        "    int b = 0;\n",
        "    std::cin >> a;\n",
        "    std::cin >> b;\n",
        "    std::cout << sum_of_two_digits(a, b);\n",
        "    return 0;\n",
        "}"
      ],
      "execution_count": null,
      "outputs": [
        {
          "output_type": "stream",
          "text": [
            "Writing APlusB.cpp\n"
          ],
          "name": "stdout"
        }
      ]
    },
    {
      "cell_type": "code",
      "metadata": {
        "colab": {
          "base_uri": "https://localhost:8080/"
        },
        "id": "0G3ZKOYAPXSU",
        "outputId": "093183fc-e12b-4a7e-894f-eb2a367e2541"
      },
      "source": [
        "!g++ APlusB.cpp -o APlusB\n",
        "!./APlusB"
      ],
      "execution_count": null,
      "outputs": [
        {
          "output_type": "stream",
          "text": [
            "4 11\n",
            "15"
          ],
          "name": "stdout"
        }
      ]
    },
    {
      "cell_type": "markdown",
      "metadata": {
        "id": "iNkG2HqfTl9c"
      },
      "source": [
        "### Test input output files"
      ]
    },
    {
      "cell_type": "code",
      "metadata": {
        "colab": {
          "base_uri": "https://localhost:8080/"
        },
        "id": "aTzU2efzMxly",
        "outputId": "3ab98be2-90a7-4c0a-cd4b-1889ab77cdba"
      },
      "source": [
        "%%writefile input1.txt\n",
        "4 8"
      ],
      "execution_count": null,
      "outputs": [
        {
          "output_type": "stream",
          "text": [
            "Writing input1.txt\n"
          ],
          "name": "stdout"
        }
      ]
    },
    {
      "cell_type": "markdown",
      "metadata": {
        "id": "pdkfsvs-T0Wr"
      },
      "source": [
        ""
      ]
    },
    {
      "cell_type": "code",
      "metadata": {
        "colab": {
          "base_uri": "https://localhost:8080/"
        },
        "id": "zBJ0Gc0NQRet",
        "outputId": "42c398a1-0ea9-4b9a-b552-f11f806284f0"
      },
      "source": [
        "%%writefile output1.txt\n",
        "12"
      ],
      "execution_count": null,
      "outputs": [
        {
          "output_type": "stream",
          "text": [
            "Writing output1.txt\n"
          ],
          "name": "stdout"
        }
      ]
    },
    {
      "cell_type": "code",
      "metadata": {
        "colab": {
          "base_uri": "https://localhost:8080/"
        },
        "id": "IjEcIx63PJAN",
        "outputId": "25652ae3-fb8c-490f-ea5e-0c9920a767ec"
      },
      "source": [
        "%%writefile input2.txt\n",
        "-5 9"
      ],
      "execution_count": null,
      "outputs": [
        {
          "output_type": "stream",
          "text": [
            "Writing input2.txt\n"
          ],
          "name": "stdout"
        }
      ]
    },
    {
      "cell_type": "code",
      "metadata": {
        "colab": {
          "base_uri": "https://localhost:8080/"
        },
        "id": "Up9gOrxURTmd",
        "outputId": "caf81da9-d710-4d5a-8590-d8b93e2c3331"
      },
      "source": [
        "%%writefile output2.txt\n",
        "4"
      ],
      "execution_count": null,
      "outputs": [
        {
          "output_type": "stream",
          "text": [
            "Writing output2.txt\n"
          ],
          "name": "stdout"
        }
      ]
    },
    {
      "cell_type": "code",
      "metadata": {
        "colab": {
          "base_uri": "https://localhost:8080/"
        },
        "id": "PST6G-s-Pwgc",
        "outputId": "15ee0d31-671a-4f00-b491-dff64d8f3821"
      },
      "source": [
        "!./APlusB < input1.txt"
      ],
      "execution_count": null,
      "outputs": [
        {
          "output_type": "stream",
          "text": [
            "12"
          ],
          "name": "stdout"
        }
      ]
    },
    {
      "cell_type": "code",
      "metadata": {
        "colab": {
          "base_uri": "https://localhost:8080/"
        },
        "id": "cKxZOjSlRfIN",
        "outputId": "993e042a-73b0-453d-ff98-d1bbba3bba6f"
      },
      "source": [
        "!./APlusB < input2.txt"
      ],
      "execution_count": null,
      "outputs": [
        {
          "output_type": "stream",
          "text": [
            "4"
          ],
          "name": "stdout"
        }
      ]
    },
    {
      "cell_type": "markdown",
      "metadata": {
        "id": "Qw2TQWCCUwqk"
      },
      "source": [
        "### Comparing files with grep\n",
        "\n",
        "https://askubuntu.com/questions/546796/comparing-two-text-files"
      ]
    },
    {
      "cell_type": "code",
      "metadata": {
        "id": "WVIaAmMKU4QM"
      },
      "source": [
        "!grep -xvFf output1.txt output1.txt "
      ],
      "execution_count": null,
      "outputs": []
    },
    {
      "cell_type": "code",
      "metadata": {
        "colab": {
          "base_uri": "https://localhost:8080/"
        },
        "id": "MQU8gPPjQuYO",
        "outputId": "66e8049c-31d2-4d24-bec6-479074bb241a"
      },
      "source": [
        "!grep -xvFf output1.txt output2.txt "
      ],
      "execution_count": null,
      "outputs": [
        {
          "output_type": "stream",
          "text": [
            "4\n"
          ],
          "name": "stdout"
        }
      ]
    },
    {
      "cell_type": "code",
      "metadata": {
        "colab": {
          "base_uri": "https://localhost:8080/"
        },
        "id": "jYL9OuYBTD_l",
        "outputId": "1534d0be-a2ef-48c6-aa40-3379a20bf78e"
      },
      "source": [
        "!grep -xvFf output2.txt output1.txt "
      ],
      "execution_count": null,
      "outputs": [
        {
          "output_type": "stream",
          "text": [
            "12\n"
          ],
          "name": "stdout"
        }
      ]
    },
    {
      "cell_type": "code",
      "metadata": {
        "id": "Jlja0Xm4TX9M"
      },
      "source": [
        "!./APlusB < input1.txt> ctest1.txt\n",
        "!grep -xvFf output1.txt ctest1.txt"
      ],
      "execution_count": null,
      "outputs": []
    },
    {
      "cell_type": "code",
      "metadata": {
        "id": "g9OIUZA_QLCQ"
      },
      "source": [
        "!./APlusB < input2.txt > ctest2.txt\n",
        "!grep -xvFf output2.txt ctest2.txt"
      ],
      "execution_count": null,
      "outputs": []
    },
    {
      "cell_type": "markdown",
      "metadata": {
        "id": "3BgOaDjUVJk6"
      },
      "source": [
        "## Python"
      ]
    },
    {
      "cell_type": "code",
      "metadata": {
        "colab": {
          "base_uri": "https://localhost:8080/"
        },
        "id": "DBvl-T0CTN_8",
        "outputId": "649549e8-a46f-43de-ea6c-9ed6d73ab1d0"
      },
      "source": [
        "%%writefile sum.py\n",
        "# python3\n",
        "\n",
        "def sum_of_two_digits(first_digit, second_digit):\n",
        "    return first_digit + second_digit\n",
        "\n",
        "if __name__ == '__main__':\n",
        "    a, b = map(int, input().split())\n",
        "    print(sum_of_two_digits(a, b))"
      ],
      "execution_count": null,
      "outputs": [
        {
          "output_type": "stream",
          "text": [
            "Writing sum.py\n"
          ],
          "name": "stdout"
        }
      ]
    },
    {
      "cell_type": "code",
      "metadata": {
        "colab": {
          "base_uri": "https://localhost:8080/"
        },
        "id": "QKoKM11_WGyF",
        "outputId": "6fbc2b66-9720-489b-88cd-ab346c9524cf"
      },
      "source": [
        "!python sum.py"
      ],
      "execution_count": null,
      "outputs": [
        {
          "output_type": "stream",
          "text": [
            "32 90\n",
            "122\n"
          ],
          "name": "stdout"
        }
      ]
    },
    {
      "cell_type": "code",
      "metadata": {
        "id": "cocFbPRTWrqt"
      },
      "source": [
        "!python sum.py  < input1.txt> ptest1.txt\n",
        "!grep -xvFf output1.txt ptest1.txt"
      ],
      "execution_count": null,
      "outputs": []
    },
    {
      "cell_type": "code",
      "metadata": {
        "id": "MorKTa-XXASN"
      },
      "source": [
        "!python sum.py  < input2.txt> ptest2.txt\n",
        "!grep -xvFf output2.txt ptest2.txt"
      ],
      "execution_count": null,
      "outputs": []
    },
    {
      "cell_type": "markdown",
      "metadata": {
        "id": "uvP-mOubW_5F"
      },
      "source": [
        "# II Solving The Maximum Pairwise Product Programming Challenge in C++"
      ]
    },
    {
      "cell_type": "markdown",
      "metadata": {
        "id": "C12yoFR6Xonl"
      },
      "source": [
        "## C++"
      ]
    },
    {
      "cell_type": "code",
      "metadata": {
        "colab": {
          "base_uri": "https://localhost:8080/"
        },
        "id": "YL4qJX3tXxdd",
        "outputId": "9ed54b17-ae31-43fc-e504-291079c2d6d6"
      },
      "source": [
        "%%writefile max_pairwise_product.cpp\n",
        "#include <iostream>\n",
        "#include <vector>\n",
        "#include <algorithm>\n",
        "\n",
        "int MaxPairwiseProduct(const std::vector<int>& numbers) {\n",
        "    int max_product = 0;\n",
        "    int n = numbers.size();\n",
        "\n",
        "    for (int first = 0; first < n; ++first) {\n",
        "        for (int second = first + 1; second < n; ++second) {\n",
        "            max_product = std::max(max_product,\n",
        "                numbers[first] * numbers[second]);\n",
        "        }\n",
        "    }\n",
        "\n",
        "    return max_product;\n",
        "}\n",
        "\n",
        "int main() {\n",
        "    int n;\n",
        "    std::cin >> n;\n",
        "    std::vector<int> numbers(n);\n",
        "    for (int i = 0; i < n; ++i) {\n",
        "        std::cin >> numbers[i];\n",
        "    }\n",
        "\n",
        "    std::cout << MaxPairwiseProduct(numbers) << \"\\n\";\n",
        "    return 0;\n",
        "}\n"
      ],
      "execution_count": null,
      "outputs": [
        {
          "output_type": "stream",
          "text": [
            "Writing max_pairwise_product.cpp\n"
          ],
          "name": "stdout"
        }
      ]
    },
    {
      "cell_type": "code",
      "metadata": {
        "colab": {
          "base_uri": "https://localhost:8080/"
        },
        "id": "KGxaEjvWX__O",
        "outputId": "c328e2d5-d761-4b06-c5e2-423748b9b602"
      },
      "source": [
        "!g++ max_pairwise_product.cpp -o max_pairwise_product\n",
        "!./max_pairwise_product"
      ],
      "execution_count": null,
      "outputs": [
        {
          "output_type": "stream",
          "text": [
            "6\n",
            "23 1 89 56 34 5\n",
            "4984\n"
          ],
          "name": "stdout"
        }
      ]
    },
    {
      "cell_type": "markdown",
      "metadata": {
        "id": "e7KhxHGNS3i0"
      },
      "source": [
        "### Test 1: Small numbers"
      ]
    },
    {
      "cell_type": "code",
      "metadata": {
        "colab": {
          "base_uri": "https://localhost:8080/"
        },
        "id": "e1mmTzBgShT-",
        "outputId": "65e06ca9-d18e-4582-a178-8369b63169c2"
      },
      "source": [
        "%%writefile input1.txt\n",
        "10\n",
        "1 2 3 4 5 6 7 8 9 10"
      ],
      "execution_count": null,
      "outputs": [
        {
          "output_type": "stream",
          "text": [
            "Overwriting input1.txt\n"
          ],
          "name": "stdout"
        }
      ]
    },
    {
      "cell_type": "code",
      "metadata": {
        "colab": {
          "base_uri": "https://localhost:8080/"
        },
        "id": "vy_uI0x7TCId",
        "outputId": "1f11389a-4817-4d81-d0bd-9f23118ca292"
      },
      "source": [
        "!./max_pairwise_product < input1.txt"
      ],
      "execution_count": null,
      "outputs": [
        {
          "output_type": "stream",
          "text": [
            "90\n"
          ],
          "name": "stdout"
        }
      ]
    },
    {
      "cell_type": "markdown",
      "metadata": {
        "id": "IeZ3kTjpYmR9"
      },
      "source": [
        "### Test 2: largest input numbers 200000 200000 in the input"
      ]
    },
    {
      "cell_type": "code",
      "metadata": {
        "colab": {
          "base_uri": "https://localhost:8080/"
        },
        "id": "LQNlZqaqYt7U",
        "outputId": "0f0f4b80-5119-464c-9cf8-6697dfae104f"
      },
      "source": [
        "%%writefile input2.txt\n",
        "6\n",
        "1 3 200000 9 200000 23"
      ],
      "execution_count": null,
      "outputs": [
        {
          "output_type": "stream",
          "text": [
            "Overwriting input2.txt\n"
          ],
          "name": "stdout"
        }
      ]
    },
    {
      "cell_type": "code",
      "metadata": {
        "colab": {
          "base_uri": "https://localhost:8080/"
        },
        "id": "2Wad2VZUZDxR",
        "outputId": "f6a473d2-1fb7-42c0-fa92-73d9b3e08c45"
      },
      "source": [
        "!./max_pairwise_product < input2.txt"
      ],
      "execution_count": null,
      "outputs": [
        {
          "output_type": "stream",
          "text": [
            "1345294336\n"
          ],
          "name": "stdout"
        }
      ]
    },
    {
      "cell_type": "markdown",
      "metadata": {
        "id": "H2SC0Qt5HCzz"
      },
      "source": [
        "Changing the variables to long long"
      ]
    },
    {
      "cell_type": "code",
      "metadata": {
        "colab": {
          "base_uri": "https://localhost:8080/"
        },
        "id": "MPcmsxiQZSfE",
        "outputId": "252db49b-e878-4a0b-f5c3-7fcc2d3e38d9"
      },
      "source": [
        "%%writefile max_pairwise_product_long.cpp\n",
        "#include <iostream>\n",
        "#include <vector>\n",
        "#include <algorithm>\n",
        "\n",
        "long long MaxPairwiseProduct(const std::vector<int>& numbers) {\n",
        "    long long max_product = 0LL;\n",
        "\t  long long aux_product = 0LL;\n",
        "    int n = numbers.size();\n",
        "\n",
        "    for (int first = 0; first < n; ++first) {\n",
        "        for (int second = first + 1; second < n; ++second) {\n",
        "\t\t\t       aux_product =  (long long) numbers[first] * numbers[second];\n",
        "            if ( max_product < aux_product)  {\n",
        "\t\t\t\t        max_product = aux_product;\n",
        "             }\n",
        "        }\n",
        "    }\n",
        "\n",
        "    return max_product;\n",
        "}\n",
        "\n",
        "int main() {\n",
        "    int n;\n",
        "    std::cin >> n;\n",
        "    std::vector<int> numbers(n);\n",
        "    for (int i = 0; i < n; ++i) {\n",
        "        std::cin >> numbers[i];\n",
        "    }\n",
        "\n",
        "    std::cout << MaxPairwiseProduct(numbers) << \"\\n\";\n",
        "    return 0;\n",
        "}\n"
      ],
      "execution_count": null,
      "outputs": [
        {
          "output_type": "stream",
          "text": [
            "Writing max_pairwise_product_long.cpp\n"
          ],
          "name": "stdout"
        }
      ]
    },
    {
      "cell_type": "code",
      "metadata": {
        "colab": {
          "base_uri": "https://localhost:8080/"
        },
        "id": "I5pCeOG1Zm7s",
        "outputId": "fb05387c-8722-4d1d-a349-c8cffff7b4c5"
      },
      "source": [
        "!g++ max_pairwise_product_long.cpp -o max_pairwise_product_long\n",
        "!./max_pairwise_product_long < input1.txt\n",
        "!./max_pairwise_product_long < input2.txt\n"
      ],
      "execution_count": null,
      "outputs": [
        {
          "output_type": "stream",
          "text": [
            "90\n",
            "40000000000\n"
          ],
          "name": "stdout"
        }
      ]
    },
    {
      "cell_type": "markdown",
      "metadata": {
        "id": "XPVHkHxH6_7s"
      },
      "source": [
        "### Test 3  stress tests 20  times  random n in [2, 20] "
      ]
    },
    {
      "cell_type": "markdown",
      "metadata": {
        "id": "uRjDL9AJK4GE"
      },
      "source": [
        "Write the input:\n"
      ]
    },
    {
      "cell_type": "code",
      "metadata": {
        "id": "PwqpBmYr69fu",
        "colab": {
          "base_uri": "https://localhost:8080/"
        },
        "outputId": "586cc803-f9ab-4625-f62b-e90d494a630d"
      },
      "source": [
        "%%writefile StressTestWr.cpp\n",
        "\n",
        "#include <iostream>\n",
        "#include <fstream>\n",
        "#include <cstdlib>\n",
        "\n",
        "using namespace std;\n",
        "\n",
        "int main() {\n",
        " \n",
        "  ofstream MyFile(\"inputStress.txt\");\n",
        "\n",
        "\n",
        " int number;\n",
        " int random;\n",
        "\n",
        " for (int i=1; i < 20+1; i++){\n",
        "     number=2+ rand()% (18+1);\n",
        "     MyFile << number<<\"\\n\";\n",
        "     for(int j=1;j<number+1;j++){\n",
        "      random=1 + rand() % (100000 - 1);\n",
        "      MyFile << random <<\" \";\n",
        "      }\n",
        "      MyFile<<\"\\n\";\n",
        " }\n",
        "  \n",
        " \n",
        "  MyFile.close();\n",
        "}"
      ],
      "execution_count": null,
      "outputs": [
        {
          "output_type": "stream",
          "text": [
            "Overwriting StressTestWr.cpp\n"
          ],
          "name": "stdout"
        }
      ]
    },
    {
      "cell_type": "code",
      "metadata": {
        "id": "yH6FcalBJW0U"
      },
      "source": [
        "!g++ StressTestWr.cpp -o StressTestWr\n",
        "!./StressTestWr"
      ],
      "execution_count": null,
      "outputs": []
    },
    {
      "cell_type": "markdown",
      "metadata": {
        "id": "WddsRKqfK84L"
      },
      "source": [
        "Using the naive solution with long long\n"
      ]
    },
    {
      "cell_type": "code",
      "metadata": {
        "colab": {
          "base_uri": "https://localhost:8080/"
        },
        "id": "oSywWrucJ31O",
        "outputId": "5274303c-dd46-4bed-eba5-2eceeb1e7ebc"
      },
      "source": [
        "%%writefile max_pairwise_product_long_StressTest.cpp\n",
        "#include <iostream>\n",
        "#include <vector>\n",
        "#include <algorithm>\n",
        "\n",
        "long long MaxPairwiseProduct(const std::vector<int>& numbers) {\n",
        "    long long max_product = 0LL;\n",
        "\t  long long aux_product = 0LL;\n",
        "    int n = numbers.size();\n",
        "\n",
        "    for (int first = 0; first < n; ++first) {\n",
        "        for (int second = first + 1; second < n; ++second) {\n",
        "\t\t\t       aux_product =  (long long) numbers[first] * numbers[second];\n",
        "            if ( max_product < aux_product)  {\n",
        "\t\t\t\t        max_product = aux_product;\n",
        "             }\n",
        "        }\n",
        "    }\n",
        "\n",
        "    return max_product;\n",
        "}\n",
        "\n",
        "int main() {\n",
        "    int n;\n",
        "    for(int s=1;s<20+1;s++){\n",
        "    std::cin >> n;\n",
        "    std::vector<int> numbers(n);\n",
        "    for (int i = 0; i < n; ++i) {\n",
        "        std::cin >> numbers[i];\n",
        "    }\n",
        "\n",
        "    std::cout << MaxPairwiseProduct(numbers) << \"\\n\";}\n",
        "    return 0;\n",
        "}\n"
      ],
      "execution_count": null,
      "outputs": [
        {
          "output_type": "stream",
          "text": [
            "Overwriting max_pairwise_product_long_StressTest.cpp\n"
          ],
          "name": "stdout"
        }
      ]
    },
    {
      "cell_type": "code",
      "metadata": {
        "colab": {
          "base_uri": "https://localhost:8080/"
        },
        "id": "_f2vp415KVM1",
        "outputId": "e4401118-3d38-4ae7-d5e3-7a9bb0759c2a"
      },
      "source": [
        "!g++ max_pairwise_product_long_StressTest.cpp -o max_pairwise_product_long_StressTest\n",
        "!./max_pairwise_product_long_StressTest < inputStress.txt"
      ],
      "execution_count": null,
      "outputs": [
        {
          "output_type": "stream",
          "text": [
            "3642211002\n",
            "7128119150\n",
            "9113410790\n",
            "9343859618\n",
            "8884259549\n",
            "1838756736\n",
            "9941374800\n",
            "6975914880\n",
            "1833433086\n",
            "4215247776\n",
            "6828158290\n",
            "6629084944\n",
            "9104014296\n",
            "4740015723\n",
            "7739814292\n",
            "9629203782\n",
            "7398480256\n",
            "5812280121\n",
            "6446352898\n",
            "6458462445\n"
          ],
          "name": "stdout"
        }
      ]
    },
    {
      "cell_type": "markdown",
      "metadata": {
        "id": "9z9yr5QkeyJF"
      },
      "source": [
        "### Test 4  time test  measure the execution time running with the the largest worst case file (200000 increasing numbers, 200000 and 200000 the end) "
      ]
    },
    {
      "cell_type": "code",
      "metadata": {
        "id": "oLiMjbAIfPlX",
        "colab": {
          "base_uri": "https://localhost:8080/"
        },
        "outputId": "c01efd1a-ca50-48cb-b660-3c8f894afa4f"
      },
      "source": [
        "%%writefile Test2Write.cpp\n",
        "\n",
        "#include <iostream>\n",
        "#include <fstream>\n",
        "#include <cstdlib>\n",
        "\n",
        "using namespace std;\n",
        "\n",
        "int main() {\n",
        "  // Create and open a text file\n",
        "  ofstream MyFile(\"input3.txt\");\n",
        "\n",
        " MyFile << 200000 <<\"\\n\";  // n \n",
        " for (int i=1; i < 200001; i++){\n",
        "     MyFile << i <<\" \";\n",
        " }\n",
        "  \n",
        "  // Close the file\n",
        "  MyFile.close();\n",
        "}"
      ],
      "execution_count": null,
      "outputs": [
        {
          "output_type": "stream",
          "text": [
            "Writing Test2Write.cpp\n"
          ],
          "name": "stdout"
        }
      ]
    },
    {
      "cell_type": "code",
      "metadata": {
        "id": "EH25TkOkZfD9"
      },
      "source": [
        "!g++ Test2Write.cpp -o Test2Write\n",
        "!./Test2Write"
      ],
      "execution_count": null,
      "outputs": []
    },
    {
      "cell_type": "markdown",
      "metadata": {
        "id": "JB6f03qO-lj9"
      },
      "source": [
        "Measure time\n",
        "\n",
        "https://askubuntu.com/questions/53444/how-can-i-measure-the-execution-time-of-a-terminal-process"
      ]
    },
    {
      "cell_type": "code",
      "metadata": {
        "colab": {
          "base_uri": "https://localhost:8080/"
        },
        "id": "6p2QLEr576zk",
        "outputId": "3c3ee99e-fe31-4fa1-96bb-e11c4e6431cd"
      },
      "source": [
        "!g++ max_pairwise_product_long.cpp -o max_pairwise_product_long\n",
        "!time ./max_pairwise_product_long < input3.txt"
      ],
      "execution_count": null,
      "outputs": [
        {
          "output_type": "stream",
          "text": [
            "39999800000\n",
            "\n",
            "real\t2m7.215s\n",
            "user\t2m6.997s\n",
            "sys\t0m0.025s\n"
          ],
          "name": "stdout"
        }
      ]
    },
    {
      "cell_type": "markdown",
      "metadata": {
        "id": "AmZeB2wYjxy5"
      },
      "source": [
        "##### Calculate  the number of instructions executed by the algorithm as a function of n, add in each line a comment with the number of instructions that are executed in that line \n",
        "\n",
        "```cpp\n",
        " int main() {                         //N inst exec by line executed  \n",
        "   \n",
        "    int n;                            //1                      \n",
        "    std::cin >> n;                    //1\n",
        "                                              \n",
        "    std::vector<int> numbers(n);      //n    init vector\n",
        "    .\n",
        "    .\n",
        " }\n",
        "\n",
        "```"
      ]
    },
    {
      "cell_type": "code",
      "metadata": {
        "colab": {
          "base_uri": "https://localhost:8080/"
        },
        "id": "djGX3FL13g9b",
        "outputId": "8ddff4ba-d2d5-4e9e-a1d1-265502973ffb"
      },
      "source": [
        "%%writefile test_init_vectors.cpp\n",
        "#include <iostream>\n",
        "#include <vector>\n",
        "#include <algorithm>\n",
        "int main() {                                                               \n",
        "    int n = 10;                                                                                                                            //1\n",
        "    std::vector<int> numbers(n);                                            \n",
        "    for (int i = 0; i < n; ++i) {                                           \n",
        "        std::cout << numbers[i];                                             \n",
        "    }\n",
        "\n",
        "    std::cout << \"\\n\";                       \n",
        "    return 0;                                                              \n",
        "}  "
      ],
      "execution_count": null,
      "outputs": [
        {
          "output_type": "stream",
          "text": [
            "Writing test_init_vectors.cpp\n"
          ],
          "name": "stdout"
        }
      ]
    },
    {
      "cell_type": "code",
      "metadata": {
        "colab": {
          "base_uri": "https://localhost:8080/"
        },
        "id": "44gZcuE237-1",
        "outputId": "64782980-a53a-4d1e-a199-fcedd166bb1c"
      },
      "source": [
        "!g++ test_init_vectors.cpp -o test_init_vectors\n",
        "!./test_init_vectors"
      ],
      "execution_count": null,
      "outputs": [
        {
          "output_type": "stream",
          "text": [
            "0000000000\n"
          ],
          "name": "stdout"
        }
      ]
    },
    {
      "cell_type": "code",
      "metadata": {
        "colab": {
          "base_uri": "https://localhost:8080/"
        },
        "id": "uG6Mv-Pwlkii",
        "outputId": "b4d891a0-7ee4-48dd-f719-dcea8196242d"
      },
      "source": [
        "%%writefile max_pairwise_product_long.cpp\n",
        "#include <iostream>\n",
        "#include <vector>\n",
        "#include <algorithm>\n",
        "\n",
        "long long MaxPairwiseProduct(const std::vector<int>& numbers) {              //N inst exec by line executed \n",
        "    long long max_product = 0LL;                                             //1                                          \n",
        "\t  long long aux_product = 0LL;                                             //1 \n",
        "    int n = numbers.size();                                                  //1 \n",
        "                                                                             \n",
        "    for (int first = 0; first < n; ++first) {                                //1+2n  \n",
        "        for (int second = first + 1; second < n; ++second) {                 //n + (n-1)n \n",
        "\t\t\t       aux_product =  (long long) numbers[first] * numbers[second];    //(n-1)n/2 \n",
        "            if (max_product < aux_product)  {                                //(n-1)n/2 \n",
        "\t\t\t\t        max_product = aux_product;                                   //[0, (n-1)n/2] \n",
        "             }\n",
        "        }\n",
        "    }\n",
        "                                                                             // -------------- \n",
        "    return max_product;                                                      // 4 + 3n + [2(n-1)n, 2.5 (n-1)n] \n",
        "}\n",
        "\n",
        "int main() {                                              //N inst exec by line executed \n",
        "    int n;                                                //1  \n",
        "    std::cin >> n;                                        //1\n",
        "    std::vector<int> numbers(n);                          //n\n",
        "    for (int i = 0; i < n; ++i) {                         //1 + 2n\n",
        "        std::cin >> numbers[i];                           //n\n",
        "    }\n",
        "\n",
        "    std::cout << MaxPairwiseProduct(numbers) << \"\\n\";     //1 + 1  + 4 + 3n + [2(n-1)n, 2.5 (n-1)n]\n",
        "    return 0;                                             // -------------- \n",
        "}                                                         // 9 + 7n + [2(n-1)n, 2.5 (n-1)n]\n"
      ],
      "execution_count": null,
      "outputs": [
        {
          "output_type": "stream",
          "text": [
            "Overwriting max_pairwise_product_long.cpp\n"
          ],
          "name": "stdout"
        }
      ]
    },
    {
      "cell_type": "markdown",
      "metadata": {
        "id": "0vTsUg8OwcHs"
      },
      "source": [
        "Count executed intructions in code and verify with inputs 1, 2 and 3"
      ]
    },
    {
      "cell_type": "code",
      "metadata": {
        "colab": {
          "base_uri": "https://localhost:8080/"
        },
        "id": "CuRKkqQc137V",
        "outputId": "c24a7894-3924-47e3-d73a-c54476cef340"
      },
      "source": [
        "%%writefile max_pairwise_product_long_execints.cpp\n",
        "#include <iostream>\n",
        "#include <vector>\n",
        "#include <algorithm>\n",
        "\n",
        "long long MaxPairwiseProduct(const std::vector<int>& numbers, long long &execints) {              //N inst exec by line executed \n",
        "    \n",
        "    long long m = 0LL;                                                       //1\n",
        "    \n",
        "    long long max_product = 0LL;                                             //1\n",
        "    execints++;\n",
        "\n",
        "\t  long long aux_product = 0LL;                                             //1\n",
        "    execints++;\n",
        "\n",
        "    int n = numbers.size();                                                  //1 \n",
        "    execints++;\n",
        "\n",
        "    execints++;                                                                         \n",
        "    for (int first = 0; first < n; ++first) {                                //1+2n  \n",
        "        execints += 2;\n",
        "\n",
        "        long long m = 0LL;\n",
        "\n",
        "        execints++;                                    \n",
        "        for (int second = first + 1; second < n; ++second) {                 //n+ (n-1)n \n",
        "            execints += 2;                                                \n",
        "\n",
        "\t\t\t      aux_product =  (long long) numbers[first] * numbers[second];    //(n-1)n/2 \n",
        "            execints++; \n",
        "\n",
        "            execints++; \n",
        "            if ( max_product < aux_product)  {                               //(n-1)n/2 \n",
        "                       \n",
        "\t\t\t\t        max_product = aux_product;                                   //[0, (n-1)n/2] \n",
        "                execints++; \n",
        "                m++;\n",
        "             }\n",
        "        }\n",
        "        if ( (first <= 10) || (n- first <= 10)) std::cout << m << \"\\n\";\n",
        "    }\n",
        "                                                                            // -------------- \n",
        "    return max_product;                                                     // 4 + 3n + [2(n-1)n, 2.5 (n-1)n] \n",
        "}\n",
        "\n",
        "int main() {                                                 //N inst exec by line executed \n",
        "    long long execints =0LL;\n",
        "\n",
        "    int n;                                                   //1\n",
        "    execints++;                                                              \n",
        "    \n",
        "    std::cin >> n;                                           //1\n",
        "    execints++;\n",
        "\n",
        "    std::vector<int> numbers(n);                             //n\n",
        "    execints += n;\n",
        "    \n",
        "    execints++;\n",
        "    for (int i = 0; i < n; ++i) {                            //1 + 2n\n",
        "        execints += 2;\n",
        "\n",
        "        std::cin >> numbers[i];\n",
        "        execints++;                                          //n\n",
        "    }\n",
        "    \n",
        "    //std::cout << MaxPairwiseProduct(numbers) << \"\\n\";      //1 + 1  + 4 + 3n + [2(n-1)n, 2.5 (n-1)n]\n",
        "\n",
        "    execints++;\n",
        "    int M = MaxPairwiseProduct(numbers,execints);\n",
        "\n",
        "    execints++;\n",
        "    std::cout << \"Total:\"<< execints << \"\\n\";                       \n",
        "    return 0;                                                // -------------- \n",
        "}                                                            // 9 + 7n + [2(n-1)n, 2.5 (n-1)n]"
      ],
      "execution_count": null,
      "outputs": [
        {
          "output_type": "stream",
          "text": [
            "Overwriting max_pairwise_product_long_execints.cpp\n"
          ],
          "name": "stdout"
        }
      ]
    },
    {
      "cell_type": "code",
      "metadata": {
        "colab": {
          "base_uri": "https://localhost:8080/"
        },
        "id": "Kuvm1C05ly2a",
        "outputId": "a9e64a04-820d-4fe2-98c1-03d6ea511bb3"
      },
      "source": [
        "!g++ max_pairwise_product_long_execints.cpp -o max_pairwise_product_long_execints\n",
        "!./max_pairwise_product_long_execints < input1.txt\n",
        "!./max_pairwise_product_long_execints < input2.txt\n",
        "!./max_pairwise_product_long_execints < input3.txt"
      ],
      "execution_count": null,
      "outputs": [
        {
          "output_type": "stream",
          "text": [
            "9\n",
            "5\n",
            "4\n",
            "3\n",
            "2\n",
            "2\n",
            "2\n",
            "2\n",
            "1\n",
            "0\n",
            "Total:289\n",
            "2\n",
            "1\n",
            "2\n",
            "0\n",
            "0\n",
            "0\n",
            "Total:116\n",
            "199999\n",
            "100000\n",
            "66667\n",
            "50000\n",
            "40000\n",
            "33334\n",
            "28572\n",
            "25000\n",
            "22223\n",
            "20000\n",
            "18182\n",
            "2\n",
            "2\n",
            "2\n",
            "2\n",
            "2\n",
            "2\n",
            "2\n",
            "2\n",
            "1\n",
            "0\n",
            "Total:80003672077\n"
          ],
          "name": "stdout"
        }
      ]
    },
    {
      "cell_type": "markdown",
      "metadata": {
        "id": "L_uaamxeAHK7"
      },
      "source": [
        "The number of instructions executed by the algooirithm with a list of size $n$ is  \n",
        "\n",
        "$$T = 9 + 7n + [2(n-1)n, 2.5 (n-1)n]$$\n",
        "\n",
        "It depends on the size of the lists and  the order of the list.\n",
        "\n",
        "For the input1.txt \n",
        "```\n",
        "10\n",
        "1 2 3 4 5 6 7 8 9 10\n",
        "```\n",
        "$$T = 9 + 7(10) + 2(9)(10) +  9 + 5 + 4 + 3 + 2 + 2 + 2 + 2 + 1 + 0  = 289 $$\n",
        "\n",
        "For the input2.txt \n",
        "```\n",
        "6\n",
        "1 3 200000 9 200000 23\n",
        "```\n",
        "$$T = 9 + 7(6) + 2(5)(6)  +  2 + 1 + 2 + 0 + 0 + 0 = 116 $$\n",
        "\n",
        "\n",
        "For the input3.txt that is the worst case (n=200000 and list in incresing order)\n",
        "\n",
        "```\n",
        "200000\n",
        "1 2 3 4 5 6 7 8 9 10 ... 199998 199999 200000\n",
        "```\n",
        "\n",
        "$$\n",
        "\\begin{array}{ll}\n",
        "T &= 9 + 7(200000) + (2)(199999)(200000)  + (199999 +\n",
        "100000 + 66667 +50000 \\cdots 2 + 2 + 1)\\\\\n",
        "&= 80003672077  \\\\\n",
        "  &< 9 + 7(200000) + (2.5)(199999)(200000) \\\\\n",
        "  & = 100000900009\n",
        "\\end{array}\n",
        "  $$"
      ]
    },
    {
      "cell_type": "markdown",
      "metadata": {
        "id": "NXW7QkoBL6xH"
      },
      "source": [
        "Calculate estimated time by instruction and number of instructions by second"
      ]
    },
    {
      "cell_type": "code",
      "metadata": {
        "colab": {
          "base_uri": "https://localhost:8080/"
        },
        "id": "pKqB3i7dIxnc",
        "outputId": "ae72eba0-3af7-463b-bc69-e77b02220b13"
      },
      "source": [
        "# Estimated time by instruction\n",
        "\n",
        "128/80003672077 \n"
      ],
      "execution_count": null,
      "outputs": [
        {
          "output_type": "execute_result",
          "data": {
            "text/plain": [
              "1.5999265618308827e-09"
            ]
          },
          "metadata": {
            "tags": []
          },
          "execution_count": 64
        }
      ]
    },
    {
      "cell_type": "code",
      "metadata": {
        "colab": {
          "base_uri": "https://localhost:8080/"
        },
        "id": "18N1ouqeMhE1",
        "outputId": "f8300b8b-13f6-49e8-f074-5093eb4a303b"
      },
      "source": [
        "# Estimated number of instructions by second\n",
        "\n",
        "1/(128/80003672077) "
      ],
      "execution_count": null,
      "outputs": [
        {
          "output_type": "execute_result",
          "data": {
            "text/plain": [
              "625028688.1015625"
            ]
          },
          "metadata": {
            "tags": []
          },
          "execution_count": 65
        }
      ]
    },
    {
      "cell_type": "markdown",
      "metadata": {
        "id": "CQufozXLNJwO"
      },
      "source": [
        "### Efficient solution"
      ]
    },
    {
      "cell_type": "markdown",
      "metadata": {
        "id": "nLcKBwbU0QsE"
      },
      "source": [
        "Add in each line a coment with the number of intstrcution that are executed in that line"
      ]
    },
    {
      "cell_type": "code",
      "metadata": {
        "id": "knls5Fh3NSt_",
        "colab": {
          "base_uri": "https://localhost:8080/"
        },
        "outputId": "db69988a-5287-48e9-a8c5-ead662067d04"
      },
      "source": [
        "%%writefile efficient.cpp \n",
        "#include <iostream>\n",
        "#include <vector>\n",
        "#include <algorithm>\n",
        "\n",
        "\n",
        "long long MaxPairwiseProductFast(const std::vector<int>& numbers) {\n",
        "    long long max_product = 0;                                             //1\n",
        "    int n = numbers.size();                                                //1\n",
        "    \n",
        "    int max_index1=-1;                                                    //1\n",
        "    int max_index2=-1;                                                    //1\n",
        "\n",
        "    for (int first = 0; first < n; ++first) {                            //1+2n  \n",
        "        if((max_index1==-1)||(numbers[first]>numbers[max_index1])){       // n\n",
        "        \tmax_index1=first;                                               //[0,n]\n",
        "\t\t}\n",
        "    }\n",
        "    \n",
        "    \n",
        "    for (int second=0; second<n;++second){                                                   //1+2n\n",
        "    \tif((second!=max_index1)&&((max_index2==-1)||(numbers[second]>numbers[max_index2]))){   // n\n",
        "        \tmax_index2=second;                                                                //[0,n]\n",
        "\t\t}\n",
        "\t}\n",
        "    \n",
        "    max_product=((long long)(numbers[max_index1]))* ((long long) numbers[max_index2]);      //1\n",
        "\n",
        "    return max_product;                                                                     //7+6n + [0,2n]\n",
        "}\n",
        "\n",
        "\n",
        "\n",
        "int main() {\n",
        "\t\n",
        "    int n;                                                   //1\n",
        "    std::cin >> n;                                           //1\n",
        "    std::vector<int> numbers(n);                            //n\n",
        "    for(int i=0;i<n; ++i){                                  //1+2n\n",
        "    \tstd::cin>> numbers[i];                                //n\n",
        "\t}\n",
        "\tlong long result=MaxPairwiseProductFast(numbers);       //1+1+7+6n + [0,2n]                                 \n",
        "\tstd::cout<<result<<\"\\n\";\n",
        "    return 0;                                             // 12+10n+[0,2n]\n",
        "}\n"
      ],
      "execution_count": null,
      "outputs": [
        {
          "output_type": "stream",
          "text": [
            "Writing efficient.cpp\n"
          ],
          "name": "stdout"
        }
      ]
    },
    {
      "cell_type": "markdown",
      "metadata": {
        "id": "-JCijbWxNSii"
      },
      "source": [
        "Test with inputs 1 and 2\n",
        "\n"
      ]
    },
    {
      "cell_type": "code",
      "metadata": {
        "id": "TrTGAfqlNVXT",
        "colab": {
          "base_uri": "https://localhost:8080/"
        },
        "outputId": "7f671be7-b6fd-43e9-c27a-c1c5a89356a0"
      },
      "source": [
        "!g++ efficient.cpp -o efficient\n",
        "!./efficient < input1.txt"
      ],
      "execution_count": null,
      "outputs": [
        {
          "output_type": "stream",
          "text": [
            "90\n"
          ],
          "name": "stdout"
        }
      ]
    },
    {
      "cell_type": "code",
      "metadata": {
        "colab": {
          "base_uri": "https://localhost:8080/"
        },
        "id": "7WpJDu4sTNME",
        "outputId": "93db89dd-5916-4436-9b1d-0a86b4fc5b2a"
      },
      "source": [
        "!g++ efficient.cpp -o efficient\n",
        "!./efficient < input2.txt"
      ],
      "execution_count": null,
      "outputs": [
        {
          "output_type": "stream",
          "text": [
            "40000000000\n"
          ],
          "name": "stdout"
        }
      ]
    },
    {
      "cell_type": "markdown",
      "metadata": {
        "id": "PRX51wADNR8b"
      },
      "source": [
        "Test and time it with input 3"
      ]
    },
    {
      "cell_type": "code",
      "metadata": {
        "id": "v4z7-Is_NRt7",
        "colab": {
          "base_uri": "https://localhost:8080/"
        },
        "outputId": "b38b8e2f-247f-4a42-cebf-a069b626c143"
      },
      "source": [
        "!time ./efficient< input3.txt"
      ],
      "execution_count": null,
      "outputs": [
        {
          "output_type": "stream",
          "text": [
            "39999800000\n",
            "\n",
            "real\t0m0.063s\n",
            "user\t0m0.057s\n",
            "sys\t0m0.004s\n"
          ],
          "name": "stdout"
        }
      ]
    },
    {
      "cell_type": "markdown",
      "metadata": {
        "id": "rpdfs0_TNZJf"
      },
      "source": [
        "20 stress tests"
      ]
    },
    {
      "cell_type": "code",
      "metadata": {
        "id": "Lu4tYcKzNcTT",
        "colab": {
          "base_uri": "https://localhost:8080/"
        },
        "outputId": "5c465642-849e-4936-c133-dc3722b7a53d"
      },
      "source": [
        "%%writefile efficientStress.cpp \n",
        "#include <iostream>\n",
        "#include <vector>\n",
        "#include <algorithm>\n",
        "\n",
        "\n",
        "long long MaxPairwiseProductFast(const std::vector<int>& numbers) {\n",
        "    long long max_product = 0;\n",
        "    int n = numbers.size();\n",
        "    \n",
        "    int max_index1=-1;\n",
        "    int max_index2=-1;\n",
        "\n",
        "    for (int first = 0; first < n; ++first) {\n",
        "        if((max_index1==-1)||(numbers[first]>numbers[max_index1])){\n",
        "        \tmax_index1=first;\n",
        "\t\t}\n",
        "    }\n",
        "    \n",
        "    \n",
        "    for(int second=0; second<n;++second){\n",
        "    \tif((second!=max_index1)&&((max_index2==-1)||(numbers[second]>numbers[max_index2]))){\n",
        "        \tmax_index2=second;\n",
        "\t\t}\n",
        "\t}\n",
        "    \n",
        "    max_product=((long long)(numbers[max_index1]))* ((long long) numbers[max_index2]);\n",
        "\n",
        "    return max_product;\n",
        "}\n",
        "\n",
        "\n",
        "\n",
        "int main() {\n",
        "\n",
        "\t\n",
        "    int n;\n",
        "  for(int s=1;s<21;s++){\n",
        "    std::cin >> n;\n",
        "    std::vector<int> numbers(n);\n",
        "    for(int i=0;i<n; ++i){\n",
        "    \tstd::cin>> numbers[i];\n",
        "\t  }\n",
        "    long long result=MaxPairwiseProductFast(numbers);\n",
        "    std::cout<<result<<\"\\n\";\n",
        "  }\n",
        "\n",
        "    return 0;\n",
        "}\n"
      ],
      "execution_count": null,
      "outputs": [
        {
          "output_type": "stream",
          "text": [
            "Writing efficientStress.cpp\n"
          ],
          "name": "stdout"
        }
      ]
    },
    {
      "cell_type": "code",
      "metadata": {
        "colab": {
          "base_uri": "https://localhost:8080/"
        },
        "id": "aChhwZvJUMRv",
        "outputId": "081fe8af-960d-4b76-b0fa-43d3b3c21743"
      },
      "source": [
        "!g++ efficientStress.cpp -o efficientStress\n",
        "!./efficientStress < inputStress.txt"
      ],
      "execution_count": null,
      "outputs": [
        {
          "output_type": "stream",
          "text": [
            "3642211002\n",
            "7128119150\n",
            "9113410790\n",
            "9343859618\n",
            "8884259549\n",
            "1838756736\n",
            "9941374800\n",
            "6975914880\n",
            "1833433086\n",
            "4215247776\n",
            "6828158290\n",
            "6629084944\n",
            "9104014296\n",
            "4740015723\n",
            "7739814292\n",
            "9629203782\n",
            "7398480256\n",
            "5812280121\n",
            "6446352898\n",
            "6458462445\n"
          ],
          "name": "stdout"
        }
      ]
    },
    {
      "cell_type": "code",
      "metadata": {
        "id": "o5UPqpjjUw_g"
      },
      "source": [
        "!./max_pairwise_product_long_StressTest < inputStress.txt > outputStr1.txt\n",
        "!./efficientStress < inputStress.txt > outputStr2.txt"
      ],
      "execution_count": null,
      "outputs": []
    },
    {
      "cell_type": "markdown",
      "metadata": {
        "id": "ckIYuMIHVMDj"
      },
      "source": [
        "Compare Stress Test with grep: Long long naive solution and Efficient Solution"
      ]
    },
    {
      "cell_type": "code",
      "metadata": {
        "id": "KVx_aXJHNMiF"
      },
      "source": [
        "!grep -xvFf outputStr1.txt outputStr2.txt"
      ],
      "execution_count": null,
      "outputs": []
    },
    {
      "cell_type": "markdown",
      "metadata": {
        "id": "L8U4151JNbxk"
      },
      "source": [
        "Count executed instructions in code and verify with inputs 1,2 and 3\n"
      ]
    },
    {
      "cell_type": "code",
      "metadata": {
        "id": "dh85RM8vNhFz",
        "colab": {
          "base_uri": "https://localhost:8080/"
        },
        "outputId": "79a62493-adae-4319-a3c9-8ad6f7025f91"
      },
      "source": [
        "%%writefile efficientExecints.cpp \n",
        "#include <iostream>\n",
        "#include <vector>\n",
        "#include <algorithm>\n",
        "\n",
        "\n",
        "long long MaxPairwiseProductFast(const std::vector<int>& numbers, long long &execints ) {\n",
        "    long long max_product = 0;                                             //1\n",
        "    execints++;\n",
        "\n",
        "    int n = numbers.size();                                                //1\n",
        "    execints++;\n",
        "\n",
        "    int max_index1=-1;                                                    //1\n",
        "    execints++;\n",
        "\n",
        "    int max_index2=-1;                                                    //1\n",
        "    execints++;\n",
        "\n",
        "\n",
        "    execints++;\n",
        "    for (int first = 0; first < n; ++first) {                            //1+2n  \n",
        "        execints+=2;\n",
        "\n",
        "        execints++;\n",
        "        if((max_index1==-1)||(numbers[first]>numbers[max_index1])){       // n\n",
        "                                                              \n",
        "\n",
        "        \tmax_index1=first;                                               //[0,n]\n",
        "          execints++;\n",
        "\n",
        "\n",
        "\t\t}\n",
        "    }\n",
        "    \n",
        "    execints++;\n",
        "    for (int second=0; second<n;++second){                                                   //1+2n\n",
        "      execints+=2;\n",
        "\n",
        "      execints++;\n",
        "    \tif((second!=max_index1)&&((max_index2==-1)||(numbers[second]>numbers[max_index2]))){   // n\n",
        "        \tmax_index2=second;                                                                //[0,n]\n",
        "          execints++;\n",
        "\t\t}\n",
        "\t}\n",
        "\n",
        "\n",
        "    execints++;\n",
        "    max_product=((long long)(numbers[max_index1]))* ((long long) numbers[max_index2]);      //1\n",
        "\n",
        "    return max_product;                                                                     //7+6n + [0,2n]\n",
        "}\n",
        "\n",
        "\n",
        "\n",
        "int main() {\n",
        "    long long execints=0LL;\n",
        "\t\n",
        "    int n;                                                   //1\n",
        "    execints++;\n",
        "\n",
        "    std::cin >> n;                                           //1\n",
        "    execints++;\n",
        "\n",
        "    std::vector<int> numbers(n);                            //n\n",
        "    execints+=n;\n",
        "\n",
        "\n",
        "    execints++;\n",
        "    for(int i=0;i<n; ++i){                                  //1+2n\n",
        "      execints+=2;            \n",
        "    \tstd::cin>> numbers[i];                                //n\n",
        "      execints++;\n",
        "\t}\n",
        "\tlong long result=MaxPairwiseProductFast(numbers,execints);       //1+1+7+6n + [0,2n]  \n",
        "  execints++;                               \n",
        "\t//std::cout<<result<<\"\\n\";\n",
        "  \n",
        "  execints++;\n",
        "\n",
        "  std::cout<<\"Total: \"<<execints<<\"\\n\";\n",
        "    return 0;                                             // 12+10n+[0,2n]\n",
        "}\n"
      ],
      "execution_count": null,
      "outputs": [
        {
          "output_type": "stream",
          "text": [
            "Writing efficientExecints.cpp\n"
          ],
          "name": "stdout"
        }
      ]
    },
    {
      "cell_type": "code",
      "metadata": {
        "colab": {
          "base_uri": "https://localhost:8080/"
        },
        "id": "9LJAa_QXXw8e",
        "outputId": "f817d566-c92c-4ee5-ea43-bfd59270d496"
      },
      "source": [
        "!g++ efficientExecints.cpp -o efficientExecints\n",
        "!./efficientExecints < input1.txt\n",
        "!./efficientExecints < input2.txt\n",
        "!./efficientExecints < input3.txt"
      ],
      "execution_count": null,
      "outputs": [
        {
          "output_type": "stream",
          "text": [
            "Total: 131\n",
            "Total: 79\n",
            "Total: 2400011\n"
          ],
          "name": "stdout"
        }
      ]
    },
    {
      "cell_type": "markdown",
      "metadata": {
        "id": "K6ybgCmpNygr"
      },
      "source": [
        "Calculate estimated time by instruction and number of instructions by second"
      ]
    },
    {
      "cell_type": "code",
      "metadata": {
        "id": "kwe3G1O3Nz1w",
        "colab": {
          "base_uri": "https://localhost:8080/"
        },
        "outputId": "6217dc8b-108b-47ae-ef35-93a61c03f19e"
      },
      "source": [
        "# Estimated time by instruction\n",
        "\n",
        "0.057/2400011"
      ],
      "execution_count": null,
      "outputs": [
        {
          "output_type": "execute_result",
          "data": {
            "text/plain": [
              "2.3749891146332247e-08"
            ]
          },
          "metadata": {
            "tags": []
          },
          "execution_count": 105
        }
      ]
    },
    {
      "cell_type": "code",
      "metadata": {
        "colab": {
          "base_uri": "https://localhost:8080/"
        },
        "id": "CLg3WGidYSlc",
        "outputId": "c811d247-416b-473b-c6a7-7ede89ee7fbd"
      },
      "source": [
        "# Estimated number of instructions by second\n",
        "\n",
        "1/(0.057/2400011)"
      ],
      "execution_count": null,
      "outputs": [
        {
          "output_type": "execute_result",
          "data": {
            "text/plain": [
              "42105456.14035088"
            ]
          },
          "metadata": {
            "tags": []
          },
          "execution_count": 106
        }
      ]
    },
    {
      "cell_type": "markdown",
      "metadata": {
        "id": "sc9nOLQrfTm0"
      },
      "source": [
        "### Super efficient solution\n",
        "\n",
        "Whitout storing the list in memory and whitout calling a function, add in each line a coment with the number of intstrcution that are executed in that line "
      ]
    },
    {
      "cell_type": "code",
      "metadata": {
        "id": "hBLt_xBQLy8E",
        "colab": {
          "base_uri": "https://localhost:8080/"
        },
        "outputId": "b82bd228-ba1e-4f31-9f00-b78a31eba7ce"
      },
      "source": [
        "%%writefile superEfficient.cpp\n",
        "#include <iostream>\n",
        "#include <vector>\n",
        "#include <algorithm>\n",
        "\n",
        "\n",
        "int main() {\n",
        "\n",
        "\t\n",
        "    int n;                                                             //1\n",
        "    std::cin >> n;                                                     //1\n",
        "    long long max_numb = 0LL;                                          //1\n",
        "    long long sec_max_numb = 0LL;                                      //1\n",
        "    long long temporal=0LL;                                            //1\n",
        "    long long max_product=0LL;                                          //1\n",
        "\n",
        "\n",
        "    for(int i=0;i<n; ++i){                                            //1+2n\n",
        "        \n",
        "    \tstd::cin>> temporal;                                             //n\n",
        "\n",
        "      if(temporal>=max_numb){                                          //n\n",
        "          sec_max_numb=max_numb;                                      //[0,n]\n",
        "          max_numb=temporal;                                          //[0,n]\n",
        "      }\n",
        "      else if(temporal>sec_max_numb){                                 //[0,n]\n",
        "          sec_max_numb=temporal;                                      //[0,n]\n",
        "      }\n",
        "\t  }\n",
        "\n",
        "\n",
        "    max_product=((long long)max_numb) * ((long long) sec_max_numb);   //1\n",
        "\n",
        "  \tstd::cout<<max_product<<\"\\n\";                                      //1\n",
        "    return 0;                                                         //9+4n+[0,2n]\n",
        "    \n",
        "}"
      ],
      "execution_count": null,
      "outputs": [
        {
          "output_type": "stream",
          "text": [
            "Writing superEfficient.cpp\n"
          ],
          "name": "stdout"
        }
      ]
    },
    {
      "cell_type": "markdown",
      "metadata": {
        "id": "683gc3roHqzb"
      },
      "source": [
        "Test with inputs 1 and 2\n",
        "\n",
        "\n",
        " "
      ]
    },
    {
      "cell_type": "code",
      "metadata": {
        "id": "b7d4LA8OIc2_",
        "colab": {
          "base_uri": "https://localhost:8080/"
        },
        "outputId": "51b3f838-ef3c-40cc-b7b6-878cc78f6cff"
      },
      "source": [
        "!g++ superEfficient.cpp -o superEfficient\n",
        "!./superEfficient < input1.txt\n",
        "!./superEfficient < input2.txt"
      ],
      "execution_count": null,
      "outputs": [
        {
          "output_type": "stream",
          "text": [
            "90\n",
            "40000000000\n"
          ],
          "name": "stdout"
        }
      ]
    },
    {
      "cell_type": "markdown",
      "metadata": {
        "id": "36Ugn1odIeJz"
      },
      "source": [
        "Test and time it with input 3"
      ]
    },
    {
      "cell_type": "code",
      "metadata": {
        "id": "jDyMbCnxHqSN",
        "colab": {
          "base_uri": "https://localhost:8080/"
        },
        "outputId": "158365bc-836d-48b0-a6b5-82d58160ede0"
      },
      "source": [
        "!time ./superEfficient < input3.txt"
      ],
      "execution_count": null,
      "outputs": [
        {
          "output_type": "stream",
          "text": [
            "39999800000\n",
            "\n",
            "real\t0m0.060s\n",
            "user\t0m0.055s\n",
            "sys\t0m0.003s\n"
          ],
          "name": "stdout"
        }
      ]
    },
    {
      "cell_type": "markdown",
      "metadata": {
        "id": "bhqiKQG6fjKM"
      },
      "source": [
        "20 stress tests "
      ]
    },
    {
      "cell_type": "code",
      "metadata": {
        "id": "lpiRifKJahDW",
        "colab": {
          "base_uri": "https://localhost:8080/"
        },
        "outputId": "4dc56eb1-0553-48f7-fd1e-65a41eb7d775"
      },
      "source": [
        "%%writefile superEfficientStress.cpp\n",
        "#include <iostream>\n",
        "#include <vector>\n",
        "#include <algorithm>\n",
        "\n",
        "\n",
        "int main() {\n",
        "\n",
        "\t\n",
        "    int n;  \n",
        "    for(int s=1;s<21;s++)                                                           \n",
        "    {  std::cin >> n;                                                     \n",
        "      long long max_numb = 0LL;                                          \n",
        "      long long sec_max_numb = 0LL;                                      \n",
        "      long long temporal=0LL;                                            \n",
        "      long long max_product=0LL;                                          \n",
        "\n",
        "\n",
        "      for(int i=0;i<n; ++i){                                            \n",
        "          \n",
        "        std::cin>> temporal;                                             \n",
        "\n",
        "        if(temporal>=max_numb){                                          \n",
        "            sec_max_numb=max_numb;                                      \n",
        "            max_numb=temporal;                                          \n",
        "        }\n",
        "        else if(temporal>sec_max_numb){                                 \n",
        "            sec_max_numb=temporal;                                      \n",
        "        }\n",
        "      }\n",
        "\n",
        "\n",
        "      max_product=((long long)max_numb) * ((long long) sec_max_numb);   \n",
        "\n",
        "      std::cout<<max_product<<\"\\n\";       }                              \n",
        "    return 0;                                                         \n",
        "    \n",
        "}"
      ],
      "execution_count": null,
      "outputs": [
        {
          "output_type": "stream",
          "text": [
            "Writing superEfficientStress.cpp\n"
          ],
          "name": "stdout"
        }
      ]
    },
    {
      "cell_type": "code",
      "metadata": {
        "id": "2KsiXKhALzwm",
        "colab": {
          "base_uri": "https://localhost:8080/"
        },
        "outputId": "5a599ca7-b078-48ba-d9d6-6c5589f07c7c"
      },
      "source": [
        "!g++ superEfficientStress.cpp -o superEfficientStress\n",
        "!./superEfficientStress < inputStress.txt"
      ],
      "execution_count": null,
      "outputs": [
        {
          "output_type": "stream",
          "text": [
            "3642211002\n",
            "7128119150\n",
            "9113410790\n",
            "9343859618\n",
            "8884259549\n",
            "1838756736\n",
            "9941374800\n",
            "6975914880\n",
            "1833433086\n",
            "4215247776\n",
            "6828158290\n",
            "6629084944\n",
            "9104014296\n",
            "4740015723\n",
            "7739814292\n",
            "9629203782\n",
            "7398480256\n",
            "5812280121\n",
            "6446352898\n",
            "6458462445\n"
          ],
          "name": "stdout"
        }
      ]
    },
    {
      "cell_type": "code",
      "metadata": {
        "id": "tvygsUHqadOb"
      },
      "source": [
        "!./superEfficientStress < inputStress.txt >outputStr3.txt"
      ],
      "execution_count": null,
      "outputs": []
    },
    {
      "cell_type": "code",
      "metadata": {
        "id": "HKAEOmQYNUlD"
      },
      "source": [
        "!grep -xvFf outputStr1.txt outputStr3.txt"
      ],
      "execution_count": null,
      "outputs": []
    },
    {
      "cell_type": "markdown",
      "metadata": {
        "id": "fEXj8GHJH5p1"
      },
      "source": [
        "Count executed instructions in code and verify with inputs 1,2 and 3"
      ]
    },
    {
      "cell_type": "code",
      "metadata": {
        "id": "LF1DHjKXIAsF",
        "colab": {
          "base_uri": "https://localhost:8080/"
        },
        "outputId": "86fdfb63-4aa7-4684-f8e5-eaa18ddfa79d"
      },
      "source": [
        "%%writefile superEfficientExecints.cpp\n",
        "#include <iostream>\n",
        "#include <vector>\n",
        "#include <algorithm>\n",
        "\n",
        "\n",
        "int main() {\n",
        "\n",
        "    long long execints=0LL;\n",
        "    int n;                                                             //1\n",
        "    execints++;\n",
        "    std::cin >> n;                                                     //1\n",
        "    execints++;\n",
        "    long long max_numb = 0LL;                                          //1\n",
        "    execints++;\n",
        "    long long sec_max_numb = 0LL;                                      //1\n",
        "    execints++;\n",
        "    long long temporal=0LL;                                            //1\n",
        "    execints++;\n",
        "    long long max_product=0LL;                                          //1\n",
        "    execints++;\n",
        "\n",
        "    execints++;\n",
        "    for(int i=0;i<n; ++i){                                            //1+2n\n",
        "    execints+=2;\n",
        "        \n",
        "    \tstd::cin>> temporal;                                             //n\n",
        "      execints++;\n",
        "\n",
        "      execints++;\n",
        "      if(temporal>=max_numb){                                          //n\n",
        "          sec_max_numb=max_numb;                                      //[0,n]\n",
        "          execints++;\n",
        "          max_numb=temporal;                                          //[0,n]\n",
        "          execints++;\n",
        "      }\n",
        "      else if(temporal>sec_max_numb){                                 //[0,n]\n",
        "            execints++;\n",
        "          sec_max_numb=temporal;                                      //[0,n]\n",
        "          execints++;\n",
        "      }\n",
        "\t  }\n",
        "\n",
        "\n",
        "    max_product=((long long)max_numb) * ((long long) sec_max_numb);   //1\n",
        "    execints++;\n",
        "\n",
        "  \t//std::cout<<max_product<<\"\\n\";                                      //1\n",
        "    execints++;\n",
        "    std::cout<<\"Total: \"<<execints<<\"\\n\";   \n",
        "    return 0;                                                         //9+4n+[0,2n]\n",
        "    \n",
        "}"
      ],
      "execution_count": null,
      "outputs": [
        {
          "output_type": "stream",
          "text": [
            "Writing superEfficientExecints.cpp\n"
          ],
          "name": "stdout"
        }
      ]
    },
    {
      "cell_type": "code",
      "metadata": {
        "colab": {
          "base_uri": "https://localhost:8080/"
        },
        "id": "cIWCGg25ctzT",
        "outputId": "545511ad-86d7-436d-b742-fa12ab6a8aaa"
      },
      "source": [
        "!g++ superEfficientExecints.cpp -o superEfficientExecints\n",
        "!./superEfficientExecints < input1.txt\n",
        "!./superEfficientExecints < input2.txt\n",
        "!./superEfficientExecints < input3.txt"
      ],
      "execution_count": null,
      "outputs": [
        {
          "output_type": "stream",
          "text": [
            "Total: 69\n",
            "Total: 43\n",
            "Total: 1200009\n"
          ],
          "name": "stdout"
        }
      ]
    },
    {
      "cell_type": "markdown",
      "metadata": {
        "id": "yae7sSm2IG9U"
      },
      "source": [
        "Calculate estimated time by instruction and number of instructions by second"
      ]
    },
    {
      "cell_type": "code",
      "metadata": {
        "id": "suouY7BYL2dz",
        "colab": {
          "base_uri": "https://localhost:8080/"
        },
        "outputId": "f34b9342-8739-4b24-d506-73c6889a5fb3"
      },
      "source": [
        "# Estimated time by instruction\n",
        "\n",
        "0.055/1200009\n"
      ],
      "execution_count": null,
      "outputs": [
        {
          "output_type": "execute_result",
          "data": {
            "text/plain": [
              "4.583298958591144e-08"
            ]
          },
          "metadata": {
            "tags": []
          },
          "execution_count": 103
        }
      ]
    },
    {
      "cell_type": "code",
      "metadata": {
        "colab": {
          "base_uri": "https://localhost:8080/"
        },
        "id": "JOAy3z_LdDME",
        "outputId": "cf2de2a8-ca26-408f-de04-8c739aa84726"
      },
      "source": [
        "# Estimated number of instructions by second\n",
        "\n",
        "1/(0.055/1200009)"
      ],
      "execution_count": null,
      "outputs": [
        {
          "output_type": "execute_result",
          "data": {
            "text/plain": [
              "21818345.454545453"
            ]
          },
          "metadata": {
            "tags": []
          },
          "execution_count": 104
        }
      ]
    },
    {
      "cell_type": "markdown",
      "metadata": {
        "id": "rydCU4bFfrhG"
      },
      "source": [
        "## Python"
      ]
    },
    {
      "cell_type": "markdown",
      "metadata": {
        "id": "6n707zUXO0N0"
      },
      "source": [
        "Efficient cython file reading, string parsing, and array building\n",
        "\n",
        "https://stackoverflow.com/questions/37219875/efficient-cython-file-reading-string-parsing-and-array-building\n",
        "\n",
        "\n",
        "\n",
        "File PreProcessing With C and Cython\n",
        "\n",
        "https://github.com/EveryTimeIWill18/Cython_Repo/blob/master/FastFileProcessingWithCython.ipynb\n",
        "\n"
      ]
    },
    {
      "cell_type": "markdown",
      "metadata": {
        "id": "I76eRg7RIIjm"
      },
      "source": [
        "### Efficient solution"
      ]
    },
    {
      "cell_type": "code",
      "metadata": {
        "id": "0JSrSIgIwCMU",
        "colab": {
          "base_uri": "https://localhost:8080/"
        },
        "outputId": "78d44f2a-300a-478e-b928-8104b33f59ea"
      },
      "source": [
        "%%writefile max_pairwise_product.py \n",
        "\n",
        "if __name__ == '__main__':\n",
        "    input_n = int(input())\n",
        "    input_numbers = [int(x) for x in input().split()]\n",
        "    max_numb=0\n",
        "    second_max_numb=0\n",
        "    max_product=0\n",
        "    for temporal in range(input_n):\n",
        "      if (input_numbers[temporal]>=max_numb):\n",
        "        second_max_numb=max_numb\n",
        "        max_numb=input_numbers[temporal]\n",
        "      elif (input_numbers[temporal]>second_max_numb):\n",
        "        second_max_numb=input_numbers[temporal]\n",
        "\n",
        "    max_product= max_numb * second_max_numb\n",
        "    print(max_product)"
      ],
      "execution_count": null,
      "outputs": [
        {
          "output_type": "stream",
          "text": [
            "Writing max_pairwise_product.py\n"
          ],
          "name": "stdout"
        }
      ]
    },
    {
      "cell_type": "code",
      "metadata": {
        "id": "vRVjfp8pKIS8",
        "colab": {
          "base_uri": "https://localhost:8080/"
        },
        "outputId": "43fa915e-25ff-45ec-a32e-3db817cb06e4"
      },
      "source": [
        "!python max_pairwise_product.py"
      ],
      "execution_count": null,
      "outputs": [
        {
          "output_type": "stream",
          "text": [
            "4\n",
            "1 3 2 3\n",
            "9\n"
          ],
          "name": "stdout"
        }
      ]
    },
    {
      "cell_type": "code",
      "metadata": {
        "id": "lsLq9RdCy1bj",
        "colab": {
          "base_uri": "https://localhost:8080/"
        },
        "outputId": "7e4b5d72-fddf-4fd4-b6d9-f41683a2ed3b"
      },
      "source": [
        "!python max_pairwise_product.py < input1.txt"
      ],
      "execution_count": null,
      "outputs": [
        {
          "output_type": "stream",
          "text": [
            "90\n"
          ],
          "name": "stdout"
        }
      ]
    },
    {
      "cell_type": "code",
      "metadata": {
        "colab": {
          "base_uri": "https://localhost:8080/"
        },
        "id": "wm47HUcjeYPa",
        "outputId": "af5afcde-e581-4857-dc13-628a1a9ea2af"
      },
      "source": [
        "!python max_pairwise_product.py < input2.txt"
      ],
      "execution_count": null,
      "outputs": [
        {
          "output_type": "stream",
          "text": [
            "40000000000\n"
          ],
          "name": "stdout"
        }
      ]
    },
    {
      "cell_type": "code",
      "metadata": {
        "colab": {
          "base_uri": "https://localhost:8080/"
        },
        "id": "7PNzIgFGeYyx",
        "outputId": "5006d188-5212-4315-b607-1964636dad1b"
      },
      "source": [
        "!time python max_pairwise_product.py < input3.txt"
      ],
      "execution_count": null,
      "outputs": [
        {
          "output_type": "stream",
          "text": [
            "39999800000\n",
            "\n",
            "real\t0m0.175s\n",
            "user\t0m0.134s\n",
            "sys\t0m0.036s\n"
          ],
          "name": "stdout"
        }
      ]
    },
    {
      "cell_type": "markdown",
      "metadata": {
        "id": "yfZC2kIZeisg"
      },
      "source": [
        "## StressTest"
      ]
    },
    {
      "cell_type": "code",
      "metadata": {
        "colab": {
          "base_uri": "https://localhost:8080/"
        },
        "id": "A_ZgOEZXeuhk",
        "outputId": "4ddf3bbe-1d87-4071-baad-e800cd59b51c"
      },
      "source": [
        "%%writefile max_pairwise_productStress.py \n",
        "\n",
        "if __name__ == '__main__':\n",
        "  for s in range(1,21):\n",
        "      input_n = int(input())\n",
        "      input_numbers = [int(x) for x in input().split()]\n",
        "      max_numb=0\n",
        "      second_max_numb=0\n",
        "      max_product=0\n",
        "      for temporal in range(input_n):\n",
        "        if (input_numbers[temporal]>=max_numb):\n",
        "          second_max_numb=max_numb\n",
        "          max_numb=input_numbers[temporal]\n",
        "        elif (input_numbers[temporal]>second_max_numb):\n",
        "          second_max_numb=input_numbers[temporal]\n",
        "\n",
        "      max_product= max_numb * second_max_numb\n",
        "      print(max_product)"
      ],
      "execution_count": null,
      "outputs": [
        {
          "output_type": "stream",
          "text": [
            "Writing max_pairwise_productStress.py\n"
          ],
          "name": "stdout"
        }
      ]
    },
    {
      "cell_type": "code",
      "metadata": {
        "colab": {
          "base_uri": "https://localhost:8080/"
        },
        "id": "RWDJKUoSepD3",
        "outputId": "865afe7f-c940-4e6c-9d80-bbad99bea8cc"
      },
      "source": [
        "!python max_pairwise_productStress.py < inputStress.txt"
      ],
      "execution_count": null,
      "outputs": [
        {
          "output_type": "stream",
          "text": [
            "3642211002\n",
            "7128119150\n",
            "9113410790\n",
            "9343859618\n",
            "8884259549\n",
            "1838756736\n",
            "9941374800\n",
            "6975914880\n",
            "1833433086\n",
            "4215247776\n",
            "6828158290\n",
            "6629084944\n",
            "9104014296\n",
            "4740015723\n",
            "7739814292\n",
            "9629203782\n",
            "7398480256\n",
            "5812280121\n",
            "6446352898\n",
            "6458462445\n"
          ],
          "name": "stdout"
        }
      ]
    },
    {
      "cell_type": "code",
      "metadata": {
        "id": "w-gd8jXHe_nS"
      },
      "source": [
        "!python max_pairwise_productStress.py < inputStress.txt> outputStrPy.txt"
      ],
      "execution_count": null,
      "outputs": []
    },
    {
      "cell_type": "code",
      "metadata": {
        "id": "jmF0qxWJfFVL"
      },
      "source": [
        "!grep -xvFf outputStr3.txt outputStrPy.txt"
      ],
      "execution_count": null,
      "outputs": []
    },
    {
      "cell_type": "markdown",
      "metadata": {
        "id": "LkVxxlhl9H98"
      },
      "source": [
        "# Screenhsoots of the Coursera Submissions in C++ and Python"
      ]
    },
    {
      "cell_type": "markdown",
      "metadata": {
        "id": "FRsK_FZ_BNJE"
      },
      "source": [
        "![AplusB](https://github.com/geramirezl/AlgorithmsUN2021I/blob/main/Lab6/AplusB.jpg?raw=true)"
      ]
    },
    {
      "cell_type": "markdown",
      "metadata": {
        "id": "ppaLGvlPf88X"
      },
      "source": [
        "![MaximumPairwiseProduct](https://github.com/geramirezl/AlgorithmsUN2021I/blob/main/Lab6/MaximumPairwiseProduct.jpg?raw=true)"
      ]
    }
  ]
}
=======
 "cells": [
  {
   "cell_type": "markdown",
   "metadata": {
    "id": "N1ok_-56OjB1"
   },
   "source": [
    "# I Solving the Sum of Two Digits Programming Challenge"
   ]
  },
  {
   "cell_type": "markdown",
   "metadata": {
    "id": "MMY7kmDSO0KM"
   },
   "source": [
    "## C++"
   ]
  },
  {
   "cell_type": "code",
   "execution_count": 1,
   "metadata": {
    "colab": {
     "base_uri": "https://localhost:8080/"
    },
    "id": "2pGGf9BkPNIk",
    "outputId": "02492914-f019-4033-d4c5-fe9ed0b4a855"
   },
   "outputs": [
    {
     "name": "stdout",
     "output_type": "stream",
     "text": [
      "Overwriting sum.cpp\n"
     ]
    }
   ],
   "source": [
    "%%writefile sum.cpp\n",
    "#include <iostream>\n",
    " \n",
    "int sum_of_two_digits(int first_digit, int second_digit) {\n",
    "    return first_digit + second_digit;\n",
    "}\n",
    " \n",
    "int main() {\n",
    "    int a = 0;\n",
    "    int b = 0;\n",
    "    std::cin >> a;\n",
    "    std::cin >> b;\n",
    "    std::cout << sum_of_two_digits(a, b);\n",
    "    return 0;\n",
    "}"
   ]
  },
  {
   "cell_type": "markdown",
   "metadata": {
    "id": "0BFoKZJh3aDy"
   },
   "source": [
    " Código de la suma de dos números en `C++`."
   ]
  },
  {
   "cell_type": "code",
   "execution_count": 2,
   "metadata": {
    "colab": {
     "base_uri": "https://localhost:8080/"
    },
    "id": "0G3ZKOYAPXSU",
    "outputId": "0eea72c9-bad4-4eba-d334-5176183f8fbd"
   },
   "outputs": [
    {
     "name": "stderr",
     "output_type": "stream",
     "text": [
      "\".\" no se reconoce como un comando interno o externo,\n",
      "programa o archivo por lotes ejecutable.\n"
     ]
    }
   ],
   "source": [
    "!g++ sum.cpp -o sum\n",
    "!./sum"
   ]
  },
  {
   "cell_type": "markdown",
   "metadata": {
    "id": "FIRMmLB53oh7"
   },
   "source": [
    "Comando para ejecutar el código de `C++` en Colab."
   ]
  },
  {
   "cell_type": "markdown",
   "metadata": {
    "id": "iNkG2HqfTl9c"
   },
   "source": [
    "### Test input output files"
   ]
  },
  {
   "cell_type": "code",
   "execution_count": 3,
   "metadata": {
    "colab": {
     "base_uri": "https://localhost:8080/"
    },
    "id": "aTzU2efzMxly",
    "outputId": "5773e92d-371f-41bf-d7f8-b50c713dfa67"
   },
   "outputs": [
    {
     "name": "stdout",
     "output_type": "stream",
     "text": [
      "Overwriting input1.txt\n"
     ]
    }
   ],
   "source": [
    "%%writefile input1.txt\n",
    "4 8"
   ]
  },
  {
   "cell_type": "code",
   "execution_count": 4,
   "metadata": {
    "colab": {
     "base_uri": "https://localhost:8080/"
    },
    "id": "zBJ0Gc0NQRet",
    "outputId": "8d948880-d754-46ec-edc4-7d168705dc1e"
   },
   "outputs": [
    {
     "name": "stdout",
     "output_type": "stream",
     "text": [
      "Overwriting output1.txt\n"
     ]
    }
   ],
   "source": [
    "%%writefile output1.txt\n",
    "12"
   ]
  },
  {
   "cell_type": "code",
   "execution_count": 5,
   "metadata": {
    "colab": {
     "base_uri": "https://localhost:8080/"
    },
    "id": "IjEcIx63PJAN",
    "outputId": "012365c9-14ee-47d8-e433-96f88a3328cd"
   },
   "outputs": [
    {
     "name": "stdout",
     "output_type": "stream",
     "text": [
      "Overwriting input2.txt\n"
     ]
    }
   ],
   "source": [
    "%%writefile input2.txt\n",
    "-5 9"
   ]
  },
  {
   "cell_type": "code",
   "execution_count": 6,
   "metadata": {
    "colab": {
     "base_uri": "https://localhost:8080/"
    },
    "id": "Up9gOrxURTmd",
    "outputId": "7cef0353-f5e6-4933-8192-6c0e375b3070"
   },
   "outputs": [
    {
     "name": "stdout",
     "output_type": "stream",
     "text": [
      "Overwriting output2.txt\n"
     ]
    }
   ],
   "source": [
    "%%writefile output2.txt\n",
    "4"
   ]
  },
  {
   "cell_type": "markdown",
   "metadata": {
    "id": "muXScvcQ4Dys"
   },
   "source": [
    "Se crean los arichos `.txt` de la entrada y salida"
   ]
  },
  {
   "cell_type": "code",
   "execution_count": 7,
   "metadata": {
    "colab": {
     "base_uri": "https://localhost:8080/"
    },
    "id": "PST6G-s-Pwgc",
    "outputId": "e0967cc4-318d-4e52-b676-9e699f3ad290"
   },
   "outputs": [
    {
     "name": "stderr",
     "output_type": "stream",
     "text": [
      "\".\" no se reconoce como un comando interno o externo,\n",
      "programa o archivo por lotes ejecutable.\n"
     ]
    }
   ],
   "source": [
    "!./sum < input1.txt"
   ]
  },
  {
   "cell_type": "code",
   "execution_count": 8,
   "metadata": {
    "colab": {
     "base_uri": "https://localhost:8080/"
    },
    "id": "cKxZOjSlRfIN",
    "outputId": "4742482d-3190-4c7d-84a7-fbf313c9d81e"
   },
   "outputs": [
    {
     "name": "stderr",
     "output_type": "stream",
     "text": [
      "\".\" no se reconoce como un comando interno o externo,\n",
      "programa o archivo por lotes ejecutable.\n"
     ]
    }
   ],
   "source": [
    "!./sum < input2.txt"
   ]
  },
  {
   "cell_type": "markdown",
   "metadata": {
    "id": "Jul2qSvT82x8"
   },
   "source": [
    "Se prueban los archivos `.txt`"
   ]
  },
  {
   "cell_type": "markdown",
   "metadata": {
    "id": "Qw2TQWCCUwqk"
   },
   "source": [
    "### Comparing files with grep\n",
    "\n",
    "https://askubuntu.com/questions/546796/comparing-two-text-files"
   ]
  },
  {
   "cell_type": "code",
   "execution_count": 9,
   "metadata": {
    "id": "WVIaAmMKU4QM"
   },
   "outputs": [
    {
     "name": "stderr",
     "output_type": "stream",
     "text": [
      "\"grep\" no se reconoce como un comando interno o externo,\n",
      "programa o archivo por lotes ejecutable.\n"
     ]
    }
   ],
   "source": [
    "!grep -xvFf output1.txt output1.txt "
   ]
  },
  {
   "cell_type": "code",
   "execution_count": 10,
   "metadata": {
    "colab": {
     "base_uri": "https://localhost:8080/"
    },
    "id": "MQU8gPPjQuYO",
    "outputId": "fd757fde-e494-416b-8fc2-01ee7f46f95a"
   },
   "outputs": [
    {
     "name": "stderr",
     "output_type": "stream",
     "text": [
      "\"grep\" no se reconoce como un comando interno o externo,\n",
      "programa o archivo por lotes ejecutable.\n"
     ]
    }
   ],
   "source": [
    "!grep -xvFf output1.txt output2.txt "
   ]
  },
  {
   "cell_type": "code",
   "execution_count": 11,
   "metadata": {
    "colab": {
     "base_uri": "https://localhost:8080/"
    },
    "id": "jYL9OuYBTD_l",
    "outputId": "df7b8046-d502-46b3-9e57-45c44fe3cb08"
   },
   "outputs": [
    {
     "name": "stderr",
     "output_type": "stream",
     "text": [
      "\"grep\" no se reconoce como un comando interno o externo,\n",
      "programa o archivo por lotes ejecutable.\n"
     ]
    }
   ],
   "source": [
    "!grep -xvFf output2.txt output1.txt"
   ]
  },
  {
   "cell_type": "markdown",
   "metadata": {
    "id": "Zl9H67a3-iIw"
   },
   "source": [
    "A través del comando `grep` comparamos dos archivos y nos muestra si hay alguna diferencia entre alguno de los dos archivos."
   ]
  },
  {
   "cell_type": "code",
   "execution_count": 12,
   "metadata": {
    "id": "Jlja0Xm4TX9M"
   },
   "outputs": [
    {
     "name": "stderr",
     "output_type": "stream",
     "text": [
      "\".\" no se reconoce como un comando interno o externo,\n",
      "programa o archivo por lotes ejecutable.\n",
      "\"grep\" no se reconoce como un comando interno o externo,\n",
      "programa o archivo por lotes ejecutable.\n"
     ]
    }
   ],
   "source": [
    "!./sum < input1.txt> ctest1.txt\n",
    "!grep -xvFf output1.txt ctest1.txt"
   ]
  },
  {
   "cell_type": "code",
   "execution_count": 13,
   "metadata": {
    "id": "g9OIUZA_QLCQ"
   },
   "outputs": [
    {
     "name": "stderr",
     "output_type": "stream",
     "text": [
      "\".\" no se reconoce como un comando interno o externo,\n",
      "programa o archivo por lotes ejecutable.\n",
      "\"grep\" no se reconoce como un comando interno o externo,\n",
      "programa o archivo por lotes ejecutable.\n"
     ]
    }
   ],
   "source": [
    "!./sum < input2.txt > ctest2.txt\n",
    "!grep -xvFf output2.txt ctest2.txt"
   ]
  },
  {
   "cell_type": "markdown",
   "metadata": {
    "id": "Q5HD3MjT_gSo"
   },
   "source": [
    "Creamos los test y comparamos con las salidas."
   ]
  },
  {
   "cell_type": "markdown",
   "metadata": {
    "id": "3BgOaDjUVJk6"
   },
   "source": [
    "## Python"
   ]
  },
  {
   "cell_type": "code",
   "execution_count": 14,
   "metadata": {
    "colab": {
     "base_uri": "https://localhost:8080/"
    },
    "id": "DBvl-T0CTN_8",
    "outputId": "6c6fc653-421c-4edd-9104-d408bdc34df4"
   },
   "outputs": [
    {
     "name": "stdout",
     "output_type": "stream",
     "text": [
      "Overwriting sum.py\n"
     ]
    }
   ],
   "source": [
    "%%writefile sum.py\n",
    "# python3\n",
    " \n",
    " \n",
    "def sum_of_two_digits(first_digit, second_digit):\n",
    "    return first_digit + second_digit\n",
    " \n",
    "if __name__ == '__main__':\n",
    "    a, b = map(int, input().split())\n",
    "    print(sum_of_two_digits(a, b))"
   ]
  },
  {
   "cell_type": "markdown",
   "metadata": {
    "id": "3lShLsgn_0Ww"
   },
   "source": [
    "Código en Python de la suma de dos números."
   ]
  },
  {
   "cell_type": "code",
   "execution_count": null,
   "metadata": {
    "colab": {
     "base_uri": "https://localhost:8080/"
    },
    "id": "QKoKM11_WGyF",
    "outputId": "047bad25-4d9c-45b2-91e4-9bcbe6bbadf3"
   },
   "outputs": [],
   "source": [
    "!python sum.py"
   ]
  },
  {
   "cell_type": "code",
   "execution_count": null,
   "metadata": {
    "id": "cocFbPRTWrqt"
   },
   "outputs": [],
   "source": [
    "!python sum.py  < input1.txt> ptest1.txt\n",
    "!grep -xvFf output1.txt ptest1.txt"
   ]
  },
  {
   "cell_type": "code",
   "execution_count": null,
   "metadata": {
    "id": "MorKTa-XXASN"
   },
   "outputs": [],
   "source": [
    "!python sum.py  < input2.txt> ptest2.txt\n",
    "!grep -xvFf output2.txt ptest2.txt"
   ]
  },
  {
   "cell_type": "markdown",
   "metadata": {
    "id": "Wh6xxMiOAsjn"
   },
   "source": [
    "Stress testing para el programa de la suma de dos números."
   ]
  },
  {
   "cell_type": "markdown",
   "metadata": {
    "id": "uvP-mOubW_5F"
   },
   "source": [
    "# II Solving The Maximum Pairwise Product Programming Challenge in C++"
   ]
  },
  {
   "cell_type": "markdown",
   "metadata": {
    "id": "C12yoFR6Xonl"
   },
   "source": [
    "## C++"
   ]
  },
  {
   "cell_type": "code",
   "execution_count": null,
   "metadata": {
    "colab": {
     "base_uri": "https://localhost:8080/"
    },
    "id": "YL4qJX3tXxdd",
    "outputId": "b1ab8445-2be9-4f2d-fb27-4cb2e9df22a6"
   },
   "outputs": [],
   "source": [
    "%%writefile max_pairwise_product1.cpp\n",
    "#include <iostream>\n",
    "#include <vector>\n",
    "#include <algorithm>\n",
    " \n",
    "int MaxPairwiseProduct(const std::vector<int>& numbers) {\n",
    "    int max_product = 0;\n",
    "    int n = numbers.size();\n",
    " \n",
    "    for (int first = 0; first < n; ++first) {\n",
    "        for (int second = first + 1; second < n; ++second) {\n",
    "            max_product = std::max(max_product,\n",
    "                numbers[first] * numbers[second]);\n",
    "        }\n",
    "    }\n",
    " \n",
    "    return max_product;\n",
    "}\n",
    " \n",
    "int main() {\n",
    "    int n;\n",
    "    std::cin >> n;\n",
    "    std::vector<int> numbers(n);\n",
    "    for (int i = 0; i < n; ++i) {\n",
    "        std::cin >> numbers[i];\n",
    "    }\n",
    " \n",
    "    std::cout << MaxPairwiseProduct(numbers) << \"\\n\";\n",
    "    return 0;\n",
    "}"
   ]
  },
  {
   "cell_type": "markdown",
   "metadata": {
    "id": "rNRDdOlUA9o1"
   },
   "source": [
    "Codigo en `C++` de la multiplicación de los dos números mayores de un arreglo."
   ]
  },
  {
   "cell_type": "code",
   "execution_count": null,
   "metadata": {
    "colab": {
     "base_uri": "https://localhost:8080/"
    },
    "id": "KGxaEjvWX__O",
    "outputId": "3f54287c-3360-4680-aa3f-7359cfdb7027"
   },
   "outputs": [],
   "source": [
    "!g++ max_pairwise_product1.cpp -o max_pairwise_product1\n",
    "!./max_pairwise_product1"
   ]
  },
  {
   "cell_type": "markdown",
   "metadata": {
    "id": "elJ_j8b-CKzd"
   },
   "source": [
    "Ejecución del programa de el producto."
   ]
  },
  {
   "cell_type": "markdown",
   "metadata": {
    "id": "IeZ3kTjpYmR9"
   },
   "source": [
    "### Test 1: lagest input numbers 10000 10000 in the input"
   ]
  },
  {
   "cell_type": "code",
   "execution_count": null,
   "metadata": {
    "colab": {
     "base_uri": "https://localhost:8080/"
    },
    "id": "LQNlZqaqYt7U",
    "outputId": "03a33a49-b53f-422a-c26f-8a17a23647d8"
   },
   "outputs": [],
   "source": [
    "%%writefile input1.txt\n",
    "10\n",
    "1 3 100000 9 100000 23"
   ]
  },
  {
   "cell_type": "code",
   "execution_count": null,
   "metadata": {
    "colab": {
     "base_uri": "https://localhost:8080/"
    },
    "id": "2Wad2VZUZDxR",
    "outputId": "afef73a0-fd84-44f7-c895-5511b09dd63c"
   },
   "outputs": [],
   "source": [
    "!./max_pairwise_product1 < input1.txt"
   ]
  },
  {
   "cell_type": "markdown",
   "metadata": {
    "id": "kMzZS_H3C58a"
   },
   "source": [
    "Debido a qué el código está manejando `int` cuando se multiplica $10.000$ por $10.000$ el resultado se sale de los límites de la variable."
   ]
  },
  {
   "cell_type": "code",
   "execution_count": null,
   "metadata": {
    "colab": {
     "base_uri": "https://localhost:8080/"
    },
    "id": "MPcmsxiQZSfE",
    "outputId": "8de31bf1-741b-4bfa-8b33-88cff10448f3"
   },
   "outputs": [],
   "source": [
    "%%writefile max_pairwise_product2.cpp\n",
    "#include <iostream>\n",
    "#include <vector>\n",
    "#include <algorithm>\n",
    "\n",
    "long long MaxPairwiseProduct(const std::vector<int>& numbers) {\n",
    "    long long max_product = 0LL;\n",
    "\t  long long aux_product = 0LL;\n",
    "    int n = numbers.size();\n",
    "\n",
    "    for (int first = 0; first < n; ++first) {\n",
    "        for (int second = first + 1; second < n; ++second) {\n",
    "\t\t\t       aux_product =  (long long) numbers[first] * numbers[second];\n",
    "            if ( max_product < aux_product)  {\n",
    "\t\t\t\t        max_product = aux_product;\n",
    "             }\n",
    "        }\n",
    "    }\n",
    "\n",
    "    return max_product;\n",
    "}\n",
    "\n",
    "int main() {\n",
    "    int n;\n",
    "    std::cin >> n;\n",
    "    std::vector<int> numbers(n);\n",
    "    for (int i = 0; i < n; ++i) {\n",
    "        std::cin >> numbers[i];\n",
    "    }\n",
    "\n",
    "    std::cout << MaxPairwiseProduct(numbers) << \"\\n\";\n",
    "    return 0;\n",
    "}\n"
   ]
  },
  {
   "cell_type": "code",
   "execution_count": null,
   "metadata": {
    "colab": {
     "base_uri": "https://localhost:8080/"
    },
    "id": "I5pCeOG1Zm7s",
    "outputId": "a42dec97-9eed-4b62-aac6-10c54250795b"
   },
   "outputs": [],
   "source": [
    "!g++ max_pairwise_product2.cpp -o max_pairwise_product2\n",
    "!./max_pairwise_product2 < input1.txt"
   ]
  },
  {
   "cell_type": "markdown",
   "metadata": {
    "id": "TuUQtOW5E7nB"
   },
   "source": [
    "Se realiza el cambio de `int` a `long long` y el resultado está dentro de los límites de este."
   ]
  },
  {
   "cell_type": "markdown",
   "metadata": {
    "id": "9z9yr5QkeyJF"
   },
   "source": [
    "### Test 2  generate a tests file with the maximun n 100000 numbers and measure time"
   ]
  },
  {
   "cell_type": "code",
   "execution_count": null,
   "metadata": {
    "colab": {
     "base_uri": "https://localhost:8080/"
    },
    "id": "oLiMjbAIfPlX",
    "outputId": "067c31f1-2cb9-4c18-bf58-5c09d629d46e"
   },
   "outputs": [],
   "source": [
    "%%writefile nmax.cpp\n",
    "#include <iostream>\n",
    "#include <vector>\n",
    "#include <algorithm>\n",
    "\n",
    "\n",
    "    int main(){\n",
    "        int n=100000;\n",
    "        std::cout<< n <<\"\\n\";\n",
    "        int number;\n",
    "\n",
    "      for(int i=0;i<n;++i){\n",
    "        number = 1 + rand() % (100000 - 1);\n",
    "        std::cout<<number<< \" \";\n",
    "      }\n",
    "        \n",
    "        return 0;\n",
    "    }\n",
    "\t\t"
   ]
  },
  {
   "cell_type": "code",
   "execution_count": null,
   "metadata": {
    "id": "if0_fNp_7l9F"
   },
   "outputs": [],
   "source": [
    "!g++ nmax.cpp -o nmax\n",
    "!./nmax > inputT2.txt"
   ]
  },
  {
   "cell_type": "markdown",
   "metadata": {
    "id": "pi-e71NFFV0Z"
   },
   "source": [
    "Se realiza un archivo de entradas con $100.000$ números al azar"
   ]
  },
  {
   "cell_type": "markdown",
   "metadata": {
    "id": "sc9nOLQrfTm0"
   },
   "source": [
    "### Efficient solution "
   ]
  },
  {
   "cell_type": "code",
   "execution_count": null,
   "metadata": {
    "colab": {
     "base_uri": "https://localhost:8080/"
    },
    "id": "l8_w-sH6tlua",
    "outputId": "90e2881b-d171-4be4-cb47-28bb8a7555a8"
   },
   "outputs": [],
   "source": [
    "%%writefile max_pairwise_productFast.cpp\n",
    "#include <iostream>\n",
    "#include <vector>\n",
    "#include <algorithm>\n",
    "\n",
    "\n",
    "int main() {\n",
    "\n",
    "\t\n",
    "    int n;\n",
    "    std::cin >> n;\n",
    "    long long max_numb = 0LL;\n",
    "    long long sec_max_numb = 0LL;\n",
    "    long long temporal=0LL;\n",
    "    long long max_product=0LL;\n",
    "\n",
    "\n",
    "    for(int i=0;i<n; ++i){\n",
    "        \n",
    "    \tstd::cin>> temporal;\n",
    "\n",
    "      if(temporal>=max_numb){\n",
    "          sec_max_numb=max_numb;\n",
    "          max_numb=temporal;\n",
    "      }\n",
    "      else if(temporal>sec_max_numb){\n",
    "          sec_max_numb=temporal;\n",
    "      }\n",
    "\t  }\n",
    "\n",
    "\n",
    "    max_product=((long long)max_numb) * ((long long) sec_max_numb);\n",
    "\n",
    "  \tstd::cout<<max_product<<\"\\n\";\n",
    "    \n",
    "}"
   ]
  },
  {
   "cell_type": "markdown",
   "metadata": {
    "id": "u9nPUm_G7Ajx"
   },
   "source": [
    "  Codigo optimizado de el programa de la multiplicacion de los numeros mayores de una arreglo, Cambiando el tiempo de ejecucion de $O(n^2)$ a $O(n)$"
   ]
  },
  {
   "cell_type": "code",
   "execution_count": null,
   "metadata": {
    "colab": {
     "base_uri": "https://localhost:8080/"
    },
    "id": "vJnRqNQj5On2",
    "outputId": "3a8d00cb-4422-48d7-d8ac-3475ef7610b9"
   },
   "outputs": [],
   "source": [
    "%%time\n",
    "!g++ max_pairwise_productFast.cpp -o max_pairwise_productFast\n",
    "!./max_pairwise_productFast < input1.txt"
   ]
  },
  {
   "cell_type": "code",
   "execution_count": null,
   "metadata": {
    "colab": {
     "base_uri": "https://localhost:8080/"
    },
    "id": "QIYIkfzA9HR0",
    "outputId": "545e4528-bf76-4009-913e-24a528df9afd"
   },
   "outputs": [],
   "source": [
    "%%time\n",
    "!g++ max_pairwise_productFast.cpp -o max_pairwise_productFast\n",
    "!./max_pairwise_productFast < inputT2.txt"
   ]
  },
  {
   "cell_type": "markdown",
   "metadata": {
    "id": "bdWfV75-EXyz"
   },
   "source": [
    "Comparar el tiempo con la solución anterior \n"
   ]
  },
  {
   "cell_type": "code",
   "execution_count": null,
   "metadata": {
    "colab": {
     "base_uri": "https://localhost:8080/"
    },
    "id": "z6DaA5x7EfHX",
    "outputId": "7e3e76ff-4fe2-418f-b67f-a7e8b09b69ba"
   },
   "outputs": [],
   "source": [
    "%%time\n",
    "!g++ max_pairwise_product2.cpp -o max_pairwise_product2\n",
    "!./max_pairwise_product2 < inputT2.txt"
   ]
  },
  {
   "cell_type": "markdown",
   "metadata": {
    "id": "Jb6K5O5wE41q"
   },
   "source": [
    "\n",
    "\n",
    "*   Solución eficiente: 528 ms\n",
    "*   Solución anterior: 32.3 s\n",
    "\n"
   ]
  },
  {
   "cell_type": "markdown",
   "metadata": {
    "id": "bhqiKQG6fjKM"
   },
   "source": [
    "### Stress tests "
   ]
  },
  {
   "cell_type": "code",
   "execution_count": null,
   "metadata": {
    "id": "R5sJGbpEDKeV"
   },
   "outputs": [],
   "source": [
    "!./max_pairwise_product2 < inputT2.txt > stresstest1.txt\n",
    "!./max_pairwise_productFast < inputT2.txt > stresstest2.txt\n",
    "!grep -xvFf stresstest1.txt stresstest2.txt"
   ]
  },
  {
   "cell_type": "markdown",
   "metadata": {
    "id": "rydCU4bFfrhG"
   },
   "source": [
    "## Python"
   ]
  },
  {
   "cell_type": "code",
   "execution_count": null,
   "metadata": {
    "colab": {
     "base_uri": "https://localhost:8080/"
    },
    "id": "w7Zzfm1Mtpwf",
    "outputId": "0e913d2b-f169-4860-8d91-fd624a147a1d"
   },
   "outputs": [],
   "source": [
    "%%writefile max_pairwise_product1.py \n",
    "def max_pairwise_product(numbers):\n",
    "    n = len(numbers)\n",
    "    max_product = 0\n",
    "    for first in range(n):\n",
    "        for second in range(first + 1, n):\n",
    "            max_product = max(max_product,\n",
    "                numbers[first] * numbers[second])\n",
    "\n",
    "    return max_product\n",
    "\n",
    "\n",
    "if __name__ == '__main__':\n",
    "    input_n = int(input())\n",
    "    input_numbers = [int(x) for x in input().split()]\n",
    "    print(max_pairwise_product(input_numbers))"
   ]
  },
  {
   "cell_type": "code",
   "execution_count": null,
   "metadata": {
    "colab": {
     "base_uri": "https://localhost:8080/"
    },
    "id": "NbBVJZ61uKJ9",
    "outputId": "890bb540-a54b-4d52-df04-dbd685488d22"
   },
   "outputs": [],
   "source": [
    "!python max_pairwise_product1.py"
   ]
  },
  {
   "cell_type": "markdown",
   "metadata": {
    "id": "Ku7n3PDa7qOZ"
   },
   "source": [
    "Codigo en `Python` de la multiplicación de los dos números mayores de un arreglo."
   ]
  },
  {
   "cell_type": "markdown",
   "metadata": {
    "id": "9pbVgKg9ulox"
   },
   "source": [
    "### Test 1 \n"
   ]
  },
  {
   "cell_type": "code",
   "execution_count": null,
   "metadata": {
    "colab": {
     "base_uri": "https://localhost:8080/"
    },
    "id": "VYAV6Lsturvu",
    "outputId": "0b35dd65-dcbe-40dc-d595-86bc9df99478"
   },
   "outputs": [],
   "source": [
    "%%writefile input1.txt\n",
    "6\n",
    "1 3 100000 9 100000 23"
   ]
  },
  {
   "cell_type": "code",
   "execution_count": null,
   "metadata": {
    "colab": {
     "base_uri": "https://localhost:8080/"
    },
    "id": "SWFQSpD_uz_l",
    "outputId": "d82b7dfc-01cc-4e24-c8ff-735d3f4ac09c"
   },
   "outputs": [],
   "source": [
    "!python max_pairwise_product1.py < input1.txt"
   ]
  },
  {
   "cell_type": "markdown",
   "metadata": {
    "id": "dkKolzZ99ayD"
   },
   "source": [
    "Prueba de codigo hecho en `Python`."
   ]
  },
  {
   "cell_type": "markdown",
   "metadata": {
    "id": "I76eRg7RIIjm"
   },
   "source": [
    "### Efficient solution"
   ]
  },
  {
   "cell_type": "code",
   "execution_count": null,
   "metadata": {
    "colab": {
     "base_uri": "https://localhost:8080/"
    },
    "id": "0JSrSIgIwCMU",
    "outputId": "225ada38-75bc-4885-ad36-57f369366568"
   },
   "outputs": [],
   "source": [
    "%%writefile max_pairwise_product2.py \n",
    "\n",
    "if __name__ == '__main__':\n",
    "    input_n = int(input())\n",
    "    input_numbers = [int(x) for x in input().split()]\n",
    "    max_numb=0\n",
    "    second_max_numb=0\n",
    "    max_product=0\n",
    "    for temporal in range(input_n):\n",
    "      if (input_numbers[temporal]>=max_numb):\n",
    "        second_max_numb=max_numb\n",
    "        max_numb=input_numbers[temporal]\n",
    "      elif (input_numbers[temporal]>second_max_numb):\n",
    "        second_max_numb=input_numbers[temporal]\n",
    "\n",
    "    max_product= max_numb * second_max_numb\n",
    "    print(max_product)"
   ]
  },
  {
   "cell_type": "code",
   "execution_count": null,
   "metadata": {
    "colab": {
     "base_uri": "https://localhost:8080/"
    },
    "id": "vRVjfp8pKIS8",
    "outputId": "6f758714-72ee-4f1f-d0ea-2e8b8bd17a7a"
   },
   "outputs": [],
   "source": [
    "!python max_pairwise_product2.py"
   ]
  },
  {
   "cell_type": "code",
   "execution_count": null,
   "metadata": {
    "colab": {
     "base_uri": "https://localhost:8080/"
    },
    "id": "lsLq9RdCy1bj",
    "outputId": "a0045de3-4694-4133-cc01-5cd318f43a0c"
   },
   "outputs": [],
   "source": [
    "!python max_pairwise_product2.py < input1.txt"
   ]
  },
  {
   "cell_type": "markdown",
   "metadata": {
    "id": "qKU8HalU-GSh"
   },
   "source": [
    "  Codigo optimizado de el programa de la multiplicacion de los numeros mayores de una arreglo, Cambiando el tiempo de ejecucion de $O(n^2)$ a $O(n)$"
   ]
  },
  {
   "cell_type": "markdown",
   "metadata": {
    "id": "tf9cIK5kLmFu"
   },
   "source": [
    "### Test 2"
   ]
  },
  {
   "cell_type": "code",
   "execution_count": null,
   "metadata": {
    "colab": {
     "base_uri": "https://localhost:8080/"
    },
    "id": "ULlnCvc2Lrqt",
    "outputId": "3f8cdf71-6adf-413e-b685-6e02aaa3bd5e"
   },
   "outputs": [],
   "source": [
    "%%time\n",
    "!python max_pairwise_product1.py < inputT2.txt"
   ]
  },
  {
   "cell_type": "code",
   "execution_count": null,
   "metadata": {
    "colab": {
     "base_uri": "https://localhost:8080/"
    },
    "id": "8SN5i-OKLr1v",
    "outputId": "3cd0b147-72ec-4276-daf3-62347e7debe9"
   },
   "outputs": [],
   "source": [
    "%%time\n",
    "!python max_pairwise_product2.py < inputT2.txt"
   ]
  },
  {
   "cell_type": "markdown",
   "metadata": {
    "id": "jMxxwjQe_j_k"
   },
   "source": [
    "*   Solución eficiente: 215 ms\n",
    "*   Solución anterior: 21min 5s\n"
   ]
  },
  {
   "cell_type": "markdown",
   "metadata": {
    "id": "NfTFoKZKQspC"
   },
   "source": [
    "### Stress Test"
   ]
  },
  {
   "cell_type": "code",
   "execution_count": null,
   "metadata": {
    "id": "3scN5wR3Qwhx"
   },
   "outputs": [],
   "source": [
    "!python max_pairwise_product2.py < inputT2.txt> pstresstest1.txt\n",
    "!grep -xvFf pstresstest1.txt stresstest2.txt"
   ]
  },
  {
   "cell_type": "markdown",
   "metadata": {
    "id": "TMZam1PqMDDq"
   },
   "source": [
    "# Screenshots tests Coursera"
   ]
  },
  {
   "cell_type": "markdown",
   "metadata": {
    "id": "Obs8omXiMXBB"
   },
   "source": [
    "### Test Programming Assignment 1: Sum of Two Digits"
   ]
  },
  {
   "cell_type": "markdown",
   "metadata": {
    "id": "P1S5KqBkMpmi"
   },
   "source": [
    "![Test 1-Sem1.jpg](data:image/jpeg;base64,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)"
   ]
  },
  {
   "cell_type": "markdown",
   "metadata": {
    "id": "Ivoo8vUUMeol"
   },
   "source": [
    "### Test Programming Assignment 1: Maximum Pairwise Product"
   ]
  },
  {
   "cell_type": "markdown",
   "metadata": {
    "id": "ytcEQ3hnNL_Y"
   },
   "source": [
    "![Test 2 - Sem1.jpg](data:image/jpeg;base64,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)"
   ]
  },
  {
   "cell_type": "code",
   "execution_count": null,
   "metadata": {},
   "outputs": [],
   "source": []
  }
 ],
 "metadata": {
  "colab": {
   "collapsed_sections": [],
   "name": "geramirezlAlgorithmicToolboxWeek1.ipynb",
   "provenance": []
  },
  "kernelspec": {
   "display_name": "Python 3",
   "language": "python",
   "name": "python3"
  },
  "language_info": {
   "codemirror_mode": {
    "name": "ipython",
    "version": 3
   },
   "file_extension": ".py",
   "mimetype": "text/x-python",
   "name": "python",
   "nbconvert_exporter": "python",
   "pygments_lexer": "ipython3",
   "version": "3.8.5"
  }
 },
 "nbformat": 4,
 "nbformat_minor": 1
}
>>>>>>> 3271a86b5c215619a09eac2264817f97d37e651a
