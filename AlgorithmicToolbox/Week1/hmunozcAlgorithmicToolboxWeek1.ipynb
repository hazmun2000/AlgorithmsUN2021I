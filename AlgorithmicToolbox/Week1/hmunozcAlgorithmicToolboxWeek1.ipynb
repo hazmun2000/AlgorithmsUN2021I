{
  "nbformat": 4,
  "nbformat_minor": 0,
  "metadata": {
    "colab": {
      "name": "AlgorithmicToolboxWeek1.ipynb",
      "provenance": [],
      "collapsed_sections": []
    },
    "kernelspec": {
      "name": "python3",
      "display_name": "Python 3"
    },
    "language_info": {
      "name": "python"
    }
  },
  "cells": [
    {
      "cell_type": "markdown",
      "metadata": {
        "id": "N1ok_-56OjB1"
      },
      "source": [
        "# I Solving the Sum of Two Digits Programming Challenge"
      ]
    },
    {
      "cell_type": "markdown",
      "metadata": {
        "id": "MMY7kmDSO0KM"
      },
      "source": [
        "## C++"
      ]
    },
    {
      "cell_type": "code",
      "metadata": {
        "colab": {
          "base_uri": "https://localhost:8080/"
        },
        "id": "2pGGf9BkPNIk",
        "outputId": "c3248cb9-7bf4-4905-d670-64bc9dc891fe"
      },
      "source": [
        "%%writefile sum.cpp\n",
        "#include <iostream>\n",
        " \n",
        "int sum_of_two_digits(int first_digit, int second_digit) {\n",
        "    return first_digit + second_digit;\n",
        "}\n",
        " \n",
        "int main() {\n",
        "    int a = 0;\n",
        "    int b = 0;\n",
        "    std::cin >> a;\n",
        "    std::cin >> b;\n",
        "    std::cout << sum_of_two_digits(a, b);\n",
        "    return 0;\n",
        "}"
      ],
      "execution_count": null,
      "outputs": [
        {
          "output_type": "stream",
          "text": [
            "Overwriting sum.cpp\n"
          ],
          "name": "stdout"
        }
      ]
    },
    {
      "cell_type": "markdown",
      "metadata": {
        "id": "0BFoKZJh3aDy"
      },
      "source": [
        " Código de la suma de dos números en `C++`."
      ]
    },
    {
      "cell_type": "code",
      "metadata": {
        "colab": {
          "base_uri": "https://localhost:8080/"
        },
        "id": "0G3ZKOYAPXSU",
        "outputId": "7b0f08b4-8d35-4f19-87fc-797cdba39dae"
      },
      "source": [
        "!g++ sum.cpp -o sum\n",
        "!./sum"
      ],
      "execution_count": null,
      "outputs": [
        {
          "output_type": "stream",
          "text": [
            "^C\n"
          ],
          "name": "stdout"
        }
      ]
    },
    {
      "cell_type": "markdown",
      "metadata": {
        "id": "FIRMmLB53oh7"
      },
      "source": [
        "Comando para ejecutar el código de `C++` en Colab."
      ]
    },
    {
      "cell_type": "markdown",
      "metadata": {
        "id": "iNkG2HqfTl9c"
      },
      "source": [
        "### Test input output files"
      ]
    },
    {
      "cell_type": "code",
      "metadata": {
        "colab": {
          "base_uri": "https://localhost:8080/"
        },
        "id": "aTzU2efzMxly",
        "outputId": "85f062bc-e755-4be8-ca1c-32c558001981"
      },
      "source": [
        "%%writefile input1.txt\n",
        "4 8"
      ],
      "execution_count": null,
      "outputs": [
        {
          "output_type": "stream",
          "text": [
            "Overwriting input1.txt\n"
          ],
          "name": "stdout"
        }
      ]
    },
    {
      "cell_type": "code",
      "metadata": {
        "colab": {
          "base_uri": "https://localhost:8080/"
        },
        "id": "zBJ0Gc0NQRet",
        "outputId": "c9ed8480-1bcc-4628-c576-3fb4ef769b35"
      },
      "source": [
        "%%writefile output1.txt\n",
        "12"
      ],
      "execution_count": null,
      "outputs": [
        {
          "output_type": "stream",
          "text": [
            "Overwriting output1.txt\n"
          ],
          "name": "stdout"
        }
      ]
    },
    {
      "cell_type": "code",
      "metadata": {
        "colab": {
          "base_uri": "https://localhost:8080/"
        },
        "id": "IjEcIx63PJAN",
        "outputId": "41f9d8fa-b2b1-41d3-8201-eb3202b7ac11"
      },
      "source": [
        "%%writefile input2.txt\n",
        "-5 9"
      ],
      "execution_count": null,
      "outputs": [
        {
          "output_type": "stream",
          "text": [
            "Overwriting input2.txt\n"
          ],
          "name": "stdout"
        }
      ]
    },
    {
      "cell_type": "code",
      "metadata": {
        "colab": {
          "base_uri": "https://localhost:8080/"
        },
        "id": "Up9gOrxURTmd",
        "outputId": "5d757ecd-eac7-44ca-a5fc-85e78542e767"
      },
      "source": [
        "%%writefile output2.txt\n",
        "4"
      ],
      "execution_count": null,
      "outputs": [
        {
          "output_type": "stream",
          "text": [
            "Overwriting output2.txt\n"
          ],
          "name": "stdout"
        }
      ]
    },
    {
      "cell_type": "markdown",
      "metadata": {
        "id": "muXScvcQ4Dys"
      },
      "source": [
        "Se crean los arichos `.txt` de la entrada y salida"
      ]
    },
    {
      "cell_type": "code",
      "metadata": {
        "colab": {
          "base_uri": "https://localhost:8080/"
        },
        "id": "PST6G-s-Pwgc",
        "outputId": "35fe2406-8bd9-477a-ea09-c6da2b7d501d"
      },
      "source": [
        "!./sum < input1.txt"
      ],
      "execution_count": null,
      "outputs": [
        {
          "output_type": "stream",
          "text": [
            "12"
          ],
          "name": "stdout"
        }
      ]
    },
    {
      "cell_type": "code",
      "metadata": {
        "colab": {
          "base_uri": "https://localhost:8080/"
        },
        "id": "cKxZOjSlRfIN",
        "outputId": "21281d5f-8c6f-44e2-a5f1-7366bd430b7f"
      },
      "source": [
        "!./sum < input2.txt"
      ],
      "execution_count": null,
      "outputs": [
        {
          "output_type": "stream",
          "text": [
            "4"
          ],
          "name": "stdout"
        }
      ]
    },
    {
      "cell_type": "markdown",
      "metadata": {
        "id": "Jul2qSvT82x8"
      },
      "source": [
        "Se prueban los archivos `.txt`"
      ]
    },
    {
      "cell_type": "markdown",
      "metadata": {
        "id": "Qw2TQWCCUwqk"
      },
      "source": [
        "### Comparing files with grep\n",
        "\n",
        "https://askubuntu.com/questions/546796/comparing-two-text-files"
      ]
    },
    {
      "cell_type": "code",
      "metadata": {
        "id": "WVIaAmMKU4QM"
      },
      "source": [
        "!grep -xvFf output1.txt output1.txt "
      ],
      "execution_count": null,
      "outputs": []
    },
    {
      "cell_type": "code",
      "metadata": {
        "colab": {
          "base_uri": "https://localhost:8080/"
        },
        "id": "MQU8gPPjQuYO",
        "outputId": "60042d7b-78a5-4e08-ad0c-5cc244f7a1d7"
      },
      "source": [
        "!grep -xvFf output1.txt output2.txt "
      ],
      "execution_count": null,
      "outputs": [
        {
          "output_type": "stream",
          "text": [
            "4\n"
          ],
          "name": "stdout"
        }
      ]
    },
    {
      "cell_type": "code",
      "metadata": {
        "colab": {
          "base_uri": "https://localhost:8080/"
        },
        "id": "jYL9OuYBTD_l",
        "outputId": "aa8912b1-125d-4bc1-fbf7-cb8bc190c3aa"
      },
      "source": [
        "!grep -xvFf output2.txt output1.txt"
      ],
      "execution_count": null,
      "outputs": [
        {
          "output_type": "stream",
          "text": [
            "12\n"
          ],
          "name": "stdout"
        }
      ]
    },
    {
      "cell_type": "markdown",
      "metadata": {
        "id": "Zl9H67a3-iIw"
      },
      "source": [
        "A través del comando `grep` comparamos dos archivos y nos muestra si hay alguna diferencia entre alguno de los dos archivos."
      ]
    },
    {
      "cell_type": "code",
      "metadata": {
        "id": "Jlja0Xm4TX9M"
      },
      "source": [
        "!./sum < input1.txt> ctest1.txt\n",
        "!grep -xvFf output1.txt ctest1.txt"
      ],
      "execution_count": null,
      "outputs": []
    },
    {
      "cell_type": "code",
      "metadata": {
        "id": "g9OIUZA_QLCQ"
      },
      "source": [
        "!./sum < input2.txt > ctest2.txt\n",
        "!grep -xvFf output2.txt ctest2.txt"
      ],
      "execution_count": null,
      "outputs": []
    },
    {
      "cell_type": "markdown",
      "metadata": {
        "id": "Q5HD3MjT_gSo"
      },
      "source": [
        "Creamos los test y comparamos con las salidas."
      ]
    },
    {
      "cell_type": "markdown",
      "metadata": {
        "id": "3BgOaDjUVJk6"
      },
      "source": [
        "## Python"
      ]
    },
    {
      "cell_type": "code",
      "metadata": {
        "id": "DBvl-T0CTN_8",
        "colab": {
          "base_uri": "https://localhost:8080/"
        },
        "outputId": "46c9b94b-85f2-4cc5-9a26-0cec1f5d93cf"
      },
      "source": [
        "%%writefile sum.py\n",
        "# python3\n",
        " \n",
        " \n",
        "def sum_of_two_digits(first_digit, second_digit):\n",
        "    return first_digit + second_digit\n",
        " \n",
        "if __name__ == '__main__':\n",
        "    a, b = map(int, input().split())\n",
        "    print(sum_of_two_digits(a, b))"
      ],
      "execution_count": null,
      "outputs": [
        {
          "output_type": "stream",
          "text": [
            "Overwriting sum.py\n"
          ],
          "name": "stdout"
        }
      ]
    },
    {
      "cell_type": "markdown",
      "metadata": {
        "id": "3lShLsgn_0Ww"
      },
      "source": [
        "Código en Python de la suma de dos números."
      ]
    },
    {
      "cell_type": "code",
      "metadata": {
        "id": "QKoKM11_WGyF",
        "colab": {
          "base_uri": "https://localhost:8080/"
        },
        "outputId": "7861abe2-6fc1-4fbd-f2fc-22e53cbeebe3"
      },
      "source": [
        "!python sum.py"
      ],
      "execution_count": null,
      "outputs": [
        {
          "output_type": "stream",
          "text": [
            "Traceback (most recent call last):\n",
            "  File \"sum.py\", line 8, in <module>\n",
            "    a, b = map(int, input().split())\n",
            "KeyboardInterrupt\n",
            "^C\n"
          ],
          "name": "stdout"
        }
      ]
    },
    {
      "cell_type": "code",
      "metadata": {
        "id": "cocFbPRTWrqt"
      },
      "source": [
        "!python sum.py  < input1.txt> ptest1.txt\n",
        "!grep -xvFf output1.txt ptest1.txt"
      ],
      "execution_count": null,
      "outputs": []
    },
    {
      "cell_type": "code",
      "metadata": {
        "id": "MorKTa-XXASN"
      },
      "source": [
        "!python sum.py  < input2.txt> ptest2.txt\n",
        "!grep -xvFf output2.txt ptest2.txt"
      ],
      "execution_count": null,
      "outputs": []
    },
    {
      "cell_type": "markdown",
      "metadata": {
        "id": "Wh6xxMiOAsjn"
      },
      "source": [
        "Stress testing para el programa de la suma de dos números."
      ]
    },
    {
      "cell_type": "markdown",
      "metadata": {
        "id": "uvP-mOubW_5F"
      },
      "source": [
        "# II Solving The Maximum Pairwise Product Programming Challenge in C++"
      ]
    },
    {
      "cell_type": "markdown",
      "metadata": {
        "id": "C12yoFR6Xonl"
      },
      "source": [
        "## C++"
      ]
    },
    {
      "cell_type": "code",
      "metadata": {
        "id": "YL4qJX3tXxdd",
        "colab": {
          "base_uri": "https://localhost:8080/"
        },
        "outputId": "a070b1b4-7d46-49b0-ae64-27a0acfee35d"
      },
      "source": [
        "%%writefile max_pairwise_product1.cpp\n",
        "#include <iostream>\n",
        "#include <vector>\n",
        "#include <algorithm>\n",
        " \n",
        "int MaxPairwiseProduct(const std::vector<int>& numbers) {\n",
        "    int max_product = 0;\n",
        "    int n = numbers.size();\n",
        " \n",
        "    for (int first = 0; first < n; ++first) {\n",
        "        for (int second = first + 1; second < n; ++second) {\n",
        "            max_product = std::max(max_product,\n",
        "                numbers[first] * numbers[second]);\n",
        "        }\n",
        "    }\n",
        " \n",
        "    return max_product;\n",
        "}\n",
        " \n",
        "int main() {\n",
        "    int n;\n",
        "    std::cin >> n;\n",
        "    std::vector<int> numbers(n);\n",
        "    for (int i = 0; i < n; ++i) {\n",
        "        std::cin >> numbers[i];\n",
        "    }\n",
        " \n",
        "    std::cout << MaxPairwiseProduct(numbers) << \"\\n\";\n",
        "    return 0;\n",
        "}"
      ],
      "execution_count": null,
      "outputs": [
        {
          "output_type": "stream",
          "text": [
            "Overwriting max_pairwise_product1.cpp\n"
          ],
          "name": "stdout"
        }
      ]
    },
    {
      "cell_type": "markdown",
      "metadata": {
        "id": "rNRDdOlUA9o1"
      },
      "source": [
        "Codigo en `C++` de la multiplicación de los dos números mayores de un arreglo."
      ]
    },
    {
      "cell_type": "code",
      "metadata": {
        "id": "KGxaEjvWX__O",
        "colab": {
          "base_uri": "https://localhost:8080/"
        },
        "outputId": "723ee36d-6daf-4a16-caec-9c636a268db2"
      },
      "source": [
        "!g++ max_pairwise_product1.cpp -o max_pairwise_product1\n",
        "!./max_pairwise_product1"
      ],
      "execution_count": null,
      "outputs": [
        {
          "output_type": "stream",
          "text": [
            "^C\n"
          ],
          "name": "stdout"
        }
      ]
    },
    {
      "cell_type": "markdown",
      "metadata": {
        "id": "elJ_j8b-CKzd"
      },
      "source": [
        "Ejecución del programa de el producto."
      ]
    },
    {
      "cell_type": "markdown",
      "metadata": {
        "id": "IeZ3kTjpYmR9"
      },
      "source": [
        "### Test 1: lagest input numbers 10000 10000 in the input"
      ]
    },
    {
      "cell_type": "code",
      "metadata": {
        "id": "LQNlZqaqYt7U",
        "colab": {
          "base_uri": "https://localhost:8080/"
        },
        "outputId": "e209835e-ab37-4976-ba92-e448489a63b4"
      },
      "source": [
        "%%writefile input1.txt\n",
        "10\n",
        "1 3 100000 9 100000 23"
      ],
      "execution_count": null,
      "outputs": [
        {
          "output_type": "stream",
          "text": [
            "Overwriting input1.txt\n"
          ],
          "name": "stdout"
        }
      ]
    },
    {
      "cell_type": "code",
      "metadata": {
        "id": "2Wad2VZUZDxR",
        "colab": {
          "base_uri": "https://localhost:8080/"
        },
        "outputId": "f77c2600-2e0b-413b-fd52-b18b590486df"
      },
      "source": [
        "!./max_pairwise_product1 < input1.txt"
      ],
      "execution_count": null,
      "outputs": [
        {
          "output_type": "stream",
          "text": [
            "1410065408\n"
          ],
          "name": "stdout"
        }
      ]
    },
    {
      "cell_type": "markdown",
      "metadata": {
        "id": "kMzZS_H3C58a"
      },
      "source": [
        "Debido a qué el código está manejando `int` cuando se multiplica $10.000$ por $10.000$ el resultado se sale de los límites de la variable."
      ]
    },
    {
      "cell_type": "code",
      "metadata": {
        "id": "MPcmsxiQZSfE",
        "colab": {
          "base_uri": "https://localhost:8080/"
        },
        "outputId": "0f793371-f1f2-43ae-89aa-4107081b0aa8"
      },
      "source": [
        "%%writefile max_pairwise_product2.cpp\n",
        "#include <iostream>\n",
        "#include <vector>\n",
        "#include <algorithm>\n",
        "\n",
        "long long MaxPairwiseProduct(const std::vector<int>& numbers) {\n",
        "    long long max_product = 0LL;\n",
        "\t  long long aux_product = 0LL;\n",
        "    int n = numbers.size();\n",
        "\n",
        "    for (int first = 0; first < n; ++first) {\n",
        "        for (int second = first + 1; second < n; ++second) {\n",
        "\t\t\t       aux_product =  (long long) numbers[first] * numbers[second];\n",
        "            if ( max_product < aux_product)  {\n",
        "\t\t\t\t        max_product = aux_product;\n",
        "             }\n",
        "        }\n",
        "    }\n",
        "\n",
        "    return max_product;\n",
        "}\n",
        "\n",
        "int main() {\n",
        "    int n;\n",
        "    std::cin >> n;\n",
        "    std::vector<int> numbers(n);\n",
        "    for (int i = 0; i < n; ++i) {\n",
        "        std::cin >> numbers[i];\n",
        "    }\n",
        "\n",
        "    std::cout << MaxPairwiseProduct(numbers) << \"\\n\";\n",
        "    return 0;\n",
        "}\n"
      ],
      "execution_count": null,
      "outputs": [
        {
          "output_type": "stream",
          "text": [
            "Overwriting max_pairwise_product2.cpp\n"
          ],
          "name": "stdout"
        }
      ]
    },
    {
      "cell_type": "code",
      "metadata": {
        "id": "I5pCeOG1Zm7s",
        "colab": {
          "base_uri": "https://localhost:8080/"
        },
        "outputId": "25c8e760-767a-4e69-bbbf-11e95b442173"
      },
      "source": [
        "!g++ max_pairwise_product2.cpp -o max_pairwise_product2\n",
        "!./max_pairwise_product2 < input1.txt"
      ],
      "execution_count": null,
      "outputs": [
        {
          "output_type": "stream",
          "text": [
            "10000000000\n"
          ],
          "name": "stdout"
        }
      ]
    },
    {
      "cell_type": "markdown",
      "metadata": {
        "id": "TuUQtOW5E7nB"
      },
      "source": [
        "Se realiza el cambio de `int` a `long long` y el resultado está dentro de los límites de este."
      ]
    },
    {
      "cell_type": "markdown",
      "metadata": {
        "id": "9z9yr5QkeyJF"
      },
      "source": [
        "### Test 2  generate a tests file with the maximun n 100000 numbers and measure time"
      ]
    },
    {
      "cell_type": "code",
      "metadata": {
        "id": "oLiMjbAIfPlX",
        "colab": {
          "base_uri": "https://localhost:8080/"
        },
        "outputId": "51bc5257-cb97-44dd-8a74-69c44635443d"
      },
      "source": [
        "%%writefile nmax.cpp\n",
        "#include <iostream>\n",
        "#include <vector>\n",
        "#include <algorithm>\n",
        "\n",
        "\n",
        "    int main(){\n",
        "        int n=100000;\n",
        "        std::cout<< n <<\"\\n\";\n",
        "        int number;\n",
        "\n",
        "      for(int i=0;i<n;++i){\n",
        "        number = 1 + rand() % (100000 - 1);\n",
        "        std::cout<<number<< \" \";\n",
        "      }\n",
        "        \n",
        "        return 0;\n",
        "    }\n",
        "\t\t"
      ],
      "execution_count": null,
      "outputs": [
        {
          "output_type": "stream",
          "text": [
            "Overwriting nmax.cpp\n"
          ],
          "name": "stdout"
        }
      ]
    },
    {
      "cell_type": "code",
      "metadata": {
        "id": "if0_fNp_7l9F"
      },
      "source": [
        "!g++ nmax.cpp -o nmax\n",
        "!./nmax > inputT2.txt"
      ],
      "execution_count": null,
      "outputs": []
    },
    {
      "cell_type": "markdown",
      "metadata": {
        "id": "pi-e71NFFV0Z"
      },
      "source": [
        "Se realiza un archivo de entradas con $100.000$ números al azar"
      ]
    },
    {
      "cell_type": "markdown",
      "metadata": {
        "id": "sc9nOLQrfTm0"
      },
      "source": [
        "### Efficient solution "
      ]
    },
    {
      "cell_type": "code",
      "metadata": {
        "id": "l8_w-sH6tlua",
        "colab": {
          "base_uri": "https://localhost:8080/"
        },
        "outputId": "70f8669e-6a8e-4fcb-814e-f1475542cabf"
      },
      "source": [
        "%%writefile max_pairwise_productFast.cpp\n",
        "#include <iostream>\n",
        "#include <vector>\n",
        "#include <algorithm>\n",
        "\n",
        "\n",
        "int main() {\n",
        "\n",
        "\t\n",
        "    int n;\n",
        "    std::cin >> n;\n",
        "    long long max_numb = 0LL;\n",
        "    long long sec_max_numb = 0LL;\n",
        "    long long temporal=0LL;\n",
        "    long long max_product=0LL;\n",
        "\n",
        "\n",
        "    for(int i=0;i<n; ++i){\n",
        "        \n",
        "    \tstd::cin>> temporal;\n",
        "\n",
        "      if(temporal>=max_numb){\n",
        "          sec_max_numb=max_numb;\n",
        "          max_numb=temporal;\n",
        "      }\n",
        "      else if(temporal>sec_max_numb){\n",
        "          sec_max_numb=temporal;\n",
        "      }\n",
        "\t  }\n",
        "\n",
        "\n",
        "    max_product=((long long)max_numb) * ((long long) sec_max_numb);\n",
        "\n",
        "  \tstd::cout<<max_product<<\"\\n\";\n",
        "    \n",
        "}"
      ],
      "execution_count": null,
      "outputs": [
        {
          "output_type": "stream",
          "text": [
            "Overwriting max_pairwise_productFast.cpp\n"
          ],
          "name": "stdout"
        }
      ]
    },
    {
      "cell_type": "markdown",
      "metadata": {
        "id": "u9nPUm_G7Ajx"
      },
      "source": [
        "  Codigo optimizado de el programa de la multiplicacion de los numeros mayores de una arreglo, Cambiando el tiempo de ejecucion de $O(n^2)$ a $O(n)$"
      ]
    },
    {
      "cell_type": "code",
      "metadata": {
        "id": "vJnRqNQj5On2",
        "colab": {
          "base_uri": "https://localhost:8080/"
        },
        "outputId": "71c55069-f76f-4da9-d73f-ca290f1b536a"
      },
      "source": [
        "%%time\n",
        "!g++ max_pairwise_productFast.cpp -o max_pairwise_productFast\n",
        "!./max_pairwise_productFast < input1.txt"
      ],
      "execution_count": null,
      "outputs": [
        {
          "output_type": "stream",
          "text": [
            "10000000000\n",
            "CPU times: user 12.4 ms, sys: 12.1 ms, total: 24.5 ms\n",
            "Wall time: 531 ms\n"
          ],
          "name": "stdout"
        }
      ]
    },
    {
      "cell_type": "code",
      "metadata": {
        "id": "QIYIkfzA9HR0",
        "colab": {
          "base_uri": "https://localhost:8080/"
        },
        "outputId": "71ba22f5-df68-4f1c-eeb9-3bb9979f46f6"
      },
      "source": [
        "%%time\n",
        "!g++ max_pairwise_productFast.cpp -o max_pairwise_productFast\n",
        "!./max_pairwise_productFast < inputT2.txt"
      ],
      "execution_count": null,
      "outputs": [
        {
          "output_type": "stream",
          "text": [
            "9999500004\n",
            "CPU times: user 18.8 ms, sys: 12.2 ms, total: 31 ms\n",
            "Wall time: 542 ms\n"
          ],
          "name": "stdout"
        }
      ]
    },
    {
      "cell_type": "markdown",
      "metadata": {
        "id": "bdWfV75-EXyz"
      },
      "source": [
        "Comparar el tiempo con la solución anterior \n"
      ]
    },
    {
      "cell_type": "code",
      "metadata": {
        "id": "z6DaA5x7EfHX",
        "colab": {
          "base_uri": "https://localhost:8080/"
        },
        "outputId": "1a1171fa-dbc7-4d92-c7da-9b135083e3f6"
      },
      "source": [
        "%%time\n",
        "!g++ max_pairwise_product2.cpp -o max_pairwise_product2\n",
        "!./max_pairwise_product2 < inputT2.txt"
      ],
      "execution_count": null,
      "outputs": [
        {
          "output_type": "stream",
          "text": [
            "^C\n",
            "CPU times: user 58.1 ms, sys: 22.1 ms, total: 80.2 ms\n",
            "Wall time: 8.14 s\n"
          ],
          "name": "stdout"
        }
      ]
    },
    {
      "cell_type": "markdown",
      "metadata": {
        "id": "Jb6K5O5wE41q"
      },
      "source": [
        "\n",
        "\n",
        "*   Solución eficiente: 543 ms\n",
        "*   Solución anterior: 32.4 s\n",
        "\n"
      ]
    },
    {
      "cell_type": "markdown",
      "metadata": {
        "id": "bhqiKQG6fjKM"
      },
      "source": [
        "### Stress tests "
      ]
    },
    {
      "cell_type": "code",
      "metadata": {
        "id": "R5sJGbpEDKeV"
      },
      "source": [
        "!./max_pairwise_product2 < inputT2.txt > stresstest1.txt\n",
        "!./max_pairwise_productFast < inputT2.txt > stresstest2.txt\n",
        "!grep -xvFf stresstest1.txt stresstest2.txt"
      ],
      "execution_count": null,
      "outputs": []
    },
    {
      "cell_type": "markdown",
      "metadata": {
        "id": "rydCU4bFfrhG"
      },
      "source": [
        "## Python"
      ]
    },
    {
      "cell_type": "code",
      "metadata": {
        "id": "w7Zzfm1Mtpwf",
        "colab": {
          "base_uri": "https://localhost:8080/"
        },
        "outputId": "7aef8d56-4f3f-4ecb-e4a3-a23b724a49b3"
      },
      "source": [
        "%%writefile max_pairwise_product1.py \n",
        "def max_pairwise_product(numbers):\n",
        "    n = len(numbers)\n",
        "    max_product = 0\n",
        "    for first in range(n):\n",
        "        for second in range(first + 1, n):\n",
        "            max_product = max(max_product,\n",
        "                numbers[first] * numbers[second])\n",
        "\n",
        "    return max_product\n",
        "\n",
        "\n",
        "if __name__ == '__main__':\n",
        "    input_n = int(input())\n",
        "    input_numbers = [int(x) for x in input().split()]\n",
        "    print(max_pairwise_product(input_numbers))"
      ],
      "execution_count": null,
      "outputs": [
        {
          "output_type": "stream",
          "text": [
            "Overwriting max_pairwise_product1.py\n"
          ],
          "name": "stdout"
        }
      ]
    },
    {
      "cell_type": "code",
      "metadata": {
        "id": "NbBVJZ61uKJ9",
        "colab": {
          "base_uri": "https://localhost:8080/"
        },
        "outputId": "2763e391-a714-479b-afaf-4b54fc494c72"
      },
      "source": [
        "!python max_pairwise_product1.py"
      ],
      "execution_count": null,
      "outputs": [
        {
          "output_type": "stream",
          "text": [
            "Traceback (most recent call last):\n",
            "  File \"max_pairwise_product1.py\", line 13, in <module>\n",
            "    input_n = int(input())\n",
            "KeyboardInterrupt\n",
            "^C\n"
          ],
          "name": "stdout"
        }
      ]
    },
    {
      "cell_type": "markdown",
      "metadata": {
        "id": "Ku7n3PDa7qOZ"
      },
      "source": [
        "Codigo en `Python` de la multiplicación de los dos números mayores de un arreglo."
      ]
    },
    {
      "cell_type": "markdown",
      "metadata": {
        "id": "9pbVgKg9ulox"
      },
      "source": [
        "### Test 1 \n"
      ]
    },
    {
      "cell_type": "code",
      "metadata": {
        "id": "VYAV6Lsturvu",
        "colab": {
          "base_uri": "https://localhost:8080/"
        },
        "outputId": "ca0835b2-66bd-4bd0-df3f-e577f8a6ac7a"
      },
      "source": [
        "%%writefile input1.txt\n",
        "6\n",
        "1 3 100000 9 100000 23"
      ],
      "execution_count": null,
      "outputs": [
        {
          "output_type": "stream",
          "text": [
            "Overwriting input1.txt\n"
          ],
          "name": "stdout"
        }
      ]
    },
    {
      "cell_type": "code",
      "metadata": {
        "id": "SWFQSpD_uz_l",
        "colab": {
          "base_uri": "https://localhost:8080/"
        },
        "outputId": "d720770b-71a5-4cb0-e975-db2b97895e9e"
      },
      "source": [
        "!python max_pairwise_product1.py < input1.txt"
      ],
      "execution_count": null,
      "outputs": [
        {
          "output_type": "stream",
          "text": [
            "10000000000\n"
          ],
          "name": "stdout"
        }
      ]
    },
    {
      "cell_type": "markdown",
      "metadata": {
        "id": "dkKolzZ99ayD"
      },
      "source": [
        "Prueba de codigo hecho en `Python`."
      ]
    },
    {
      "cell_type": "markdown",
      "metadata": {
        "id": "I76eRg7RIIjm"
      },
      "source": [
        "### Efficient solution"
      ]
    },
    {
      "cell_type": "code",
      "metadata": {
        "id": "0JSrSIgIwCMU",
        "colab": {
          "base_uri": "https://localhost:8080/"
        },
        "outputId": "ffe9d8aa-889b-44d1-a43d-bfb12d870f09"
      },
      "source": [
        "%%writefile max_pairwise_product2.py \n",
        "\n",
        "if __name__ == '__main__':\n",
        "    input_n = int(input())\n",
        "    input_numbers = [int(x) for x in input().split()]\n",
        "    max_numb=0\n",
        "    second_max_numb=0\n",
        "    max_product=0\n",
        "    for temporal in range(input_n):\n",
        "      if (input_numbers[temporal]>=max_numb):\n",
        "        second_max_numb=max_numb\n",
        "        max_numb=input_numbers[temporal]\n",
        "      elif (input_numbers[temporal]>second_max_numb):\n",
        "        second_max_numb=input_numbers[temporal]\n",
        "\n",
        "    max_product= max_numb * second_max_numb\n",
        "    print(max_product)"
      ],
      "execution_count": null,
      "outputs": [
        {
          "output_type": "stream",
          "text": [
            "Writing max_pairwise_product2.py\n"
          ],
          "name": "stdout"
        }
      ]
    },
    {
      "cell_type": "code",
      "metadata": {
        "id": "vRVjfp8pKIS8",
        "colab": {
          "base_uri": "https://localhost:8080/"
        },
        "outputId": "679f284a-6cea-47be-b006-891db32a66d2"
      },
      "source": [
        "!python max_pairwise_product2.py"
      ],
      "execution_count": null,
      "outputs": [
        {
          "output_type": "stream",
          "text": [
            "Traceback (most recent call last):\n",
            "  File \"max_pairwise_product2.py\", line 3, in <module>\n",
            "    input_n = int(input())\n",
            "KeyboardInterrupt\n",
            "^C\n"
          ],
          "name": "stdout"
        }
      ]
    },
    {
      "cell_type": "code",
      "metadata": {
        "id": "lsLq9RdCy1bj",
        "colab": {
          "base_uri": "https://localhost:8080/"
        },
        "outputId": "14dfcd42-170a-4a8d-e06d-92c9e06f7864"
      },
      "source": [
        "!python max_pairwise_product2.py < input1.txt"
      ],
      "execution_count": null,
      "outputs": [
        {
          "output_type": "stream",
          "text": [
            "10000000000\n"
          ],
          "name": "stdout"
        }
      ]
    },
    {
      "cell_type": "markdown",
      "metadata": {
        "id": "qKU8HalU-GSh"
      },
      "source": [
        "  Codigo optimizado de el programa de la multiplicacion de los numeros mayores de una arreglo, Cambiando el tiempo de ejecucion de $O(n^2)$ a $O(n)$"
      ]
    },
    {
      "cell_type": "markdown",
      "metadata": {
        "id": "tf9cIK5kLmFu"
      },
      "source": [
        "### Test 2"
      ]
    },
    {
      "cell_type": "code",
      "metadata": {
        "id": "ULlnCvc2Lrqt",
        "colab": {
          "base_uri": "https://localhost:8080/"
        },
        "outputId": "3f8cdf71-6adf-413e-b685-6e02aaa3bd5e"
      },
      "source": [
        "%%time\n",
        "!python max_pairwise_product1.py < inputT2.txt"
      ],
      "execution_count": null,
      "outputs": [
        {
          "output_type": "stream",
          "text": [
            "9999500004\n",
            "CPU times: user 7.85 s, sys: 1.06 s, total: 8.91 s\n",
            "Wall time: 21min 5s\n"
          ],
          "name": "stdout"
        }
      ]
    },
    {
      "cell_type": "code",
      "metadata": {
        "id": "8SN5i-OKLr1v",
        "colab": {
          "base_uri": "https://localhost:8080/"
        },
        "outputId": "3cd0b147-72ec-4276-daf3-62347e7debe9"
      },
      "source": [
        "%%time\n",
        "!python max_pairwise_product2.py < inputT2.txt"
      ],
      "execution_count": null,
      "outputs": [
        {
          "output_type": "stream",
          "text": [
            "9999500004\n",
            "CPU times: user 9.35 ms, sys: 4.89 ms, total: 14.2 ms\n",
            "Wall time: 215 ms\n"
          ],
          "name": "stdout"
        }
      ]
    },
    {
      "cell_type": "markdown",
      "metadata": {
        "id": "jMxxwjQe_j_k"
      },
      "source": [
        "*   Solución eficiente: 215 ms\n",
        "*   Solución anterior: 21min 5s\n"
      ]
    },
    {
      "cell_type": "markdown",
      "metadata": {
        "id": "NfTFoKZKQspC"
      },
      "source": [
        "### Stress Test"
      ]
    },
    {
      "cell_type": "code",
      "metadata": {
        "id": "3scN5wR3Qwhx"
      },
      "source": [
        "!python max_pairwise_product2.py < inputT2.txt> pstresstest1.txt\n",
        "!grep -xvFf pstresstest1.txt stresstest2.txt"
      ],
      "execution_count": null,
      "outputs": []
    }
  ]
}